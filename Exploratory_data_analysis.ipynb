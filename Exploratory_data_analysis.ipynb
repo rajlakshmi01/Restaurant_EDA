{
 "cells": [
  {
   "cell_type": "markdown",
   "id": "735406d9",
   "metadata": {},
   "source": [
    "## import libraries"
   ]
  },
  {
   "cell_type": "code",
   "execution_count": 1,
   "id": "93ec4c39",
   "metadata": {},
   "outputs": [],
   "source": [
    "import numpy as np\n",
    "import pandas as pd\n",
    "import matplotlib.pyplot as plt\n",
    "import seaborn as sns"
   ]
  },
  {
   "cell_type": "markdown",
   "id": "74a6cb62",
   "metadata": {},
   "source": [
    "## importing data          "
   ]
  },
  {
   "cell_type": "code",
   "execution_count": 2,
   "id": "fb9750ba",
   "metadata": {},
   "outputs": [
    {
     "data": {
      "text/html": [
       "<div>\n",
       "<style scoped>\n",
       "    .dataframe tbody tr th:only-of-type {\n",
       "        vertical-align: middle;\n",
       "    }\n",
       "\n",
       "    .dataframe tbody tr th {\n",
       "        vertical-align: top;\n",
       "    }\n",
       "\n",
       "    .dataframe thead th {\n",
       "        text-align: right;\n",
       "    }\n",
       "</style>\n",
       "<table border=\"1\" class=\"dataframe\">\n",
       "  <thead>\n",
       "    <tr style=\"text-align: right;\">\n",
       "      <th></th>\n",
       "      <th>userID</th>\n",
       "      <th>placeID</th>\n",
       "      <th>food_rating</th>\n",
       "      <th>service_rating</th>\n",
       "    </tr>\n",
       "  </thead>\n",
       "  <tbody>\n",
       "    <tr>\n",
       "      <th>0</th>\n",
       "      <td>U1077</td>\n",
       "      <td>135085</td>\n",
       "      <td>2</td>\n",
       "      <td>2</td>\n",
       "    </tr>\n",
       "    <tr>\n",
       "      <th>1</th>\n",
       "      <td>U1077</td>\n",
       "      <td>135038</td>\n",
       "      <td>2</td>\n",
       "      <td>1</td>\n",
       "    </tr>\n",
       "    <tr>\n",
       "      <th>2</th>\n",
       "      <td>U1077</td>\n",
       "      <td>132825</td>\n",
       "      <td>2</td>\n",
       "      <td>2</td>\n",
       "    </tr>\n",
       "    <tr>\n",
       "      <th>3</th>\n",
       "      <td>U1077</td>\n",
       "      <td>135060</td>\n",
       "      <td>2</td>\n",
       "      <td>2</td>\n",
       "    </tr>\n",
       "    <tr>\n",
       "      <th>4</th>\n",
       "      <td>U1068</td>\n",
       "      <td>135104</td>\n",
       "      <td>1</td>\n",
       "      <td>2</td>\n",
       "    </tr>\n",
       "  </tbody>\n",
       "</table>\n",
       "</div>"
      ],
      "text/plain": [
       "  userID  placeID  food_rating  service_rating\n",
       "0  U1077   135085            2               2\n",
       "1  U1077   135038            2               1\n",
       "2  U1077   132825            2               2\n",
       "3  U1077   135060            2               2\n",
       "4  U1068   135104            1               2"
      ]
     },
     "execution_count": 2,
     "metadata": {},
     "output_type": "execute_result"
    }
   ],
   "source": [
    "user_ratings =pd.read_csv(\"D:\\\\Data Analysis\\\\Data\\\\user_rating.csv\")\n",
    "user_ratings.head()"
   ]
  },
  {
   "cell_type": "code",
   "execution_count": 3,
   "id": "66c0afce",
   "metadata": {},
   "outputs": [
    {
     "data": {
      "text/html": [
       "<div>\n",
       "<style scoped>\n",
       "    .dataframe tbody tr th:only-of-type {\n",
       "        vertical-align: middle;\n",
       "    }\n",
       "\n",
       "    .dataframe tbody tr th {\n",
       "        vertical-align: top;\n",
       "    }\n",
       "\n",
       "    .dataframe thead th {\n",
       "        text-align: right;\n",
       "    }\n",
       "</style>\n",
       "<table border=\"1\" class=\"dataframe\">\n",
       "  <thead>\n",
       "    <tr style=\"text-align: right;\">\n",
       "      <th></th>\n",
       "      <th>gender</th>\n",
       "      <th>smoker</th>\n",
       "      <th>drink_level</th>\n",
       "      <th>dress_preference</th>\n",
       "      <th>ambience</th>\n",
       "      <th>transport</th>\n",
       "      <th>marital_status</th>\n",
       "      <th>interest</th>\n",
       "      <th>personality</th>\n",
       "      <th>religion</th>\n",
       "      <th>activity</th>\n",
       "      <th>income</th>\n",
       "      <th>FRVPM</th>\n",
       "      <th>AERPM</th>\n",
       "    </tr>\n",
       "  </thead>\n",
       "  <tbody>\n",
       "    <tr>\n",
       "      <th>0</th>\n",
       "      <td>male</td>\n",
       "      <td>False</td>\n",
       "      <td>abstemious</td>\n",
       "      <td>informal</td>\n",
       "      <td>family</td>\n",
       "      <td>on foot</td>\n",
       "      <td>single</td>\n",
       "      <td>variety</td>\n",
       "      <td>thrifty-protector</td>\n",
       "      <td>none</td>\n",
       "      <td>student</td>\n",
       "      <td>medium</td>\n",
       "      <td>12</td>\n",
       "      <td>2976</td>\n",
       "    </tr>\n",
       "    <tr>\n",
       "      <th>1</th>\n",
       "      <td>female</td>\n",
       "      <td>False</td>\n",
       "      <td>abstemious</td>\n",
       "      <td>informal</td>\n",
       "      <td>family</td>\n",
       "      <td>public</td>\n",
       "      <td>single</td>\n",
       "      <td>technology</td>\n",
       "      <td>hunter-ostentatious</td>\n",
       "      <td>Catholic</td>\n",
       "      <td>student</td>\n",
       "      <td>low</td>\n",
       "      <td>12</td>\n",
       "      <td>3648</td>\n",
       "    </tr>\n",
       "    <tr>\n",
       "      <th>2</th>\n",
       "      <td>female</td>\n",
       "      <td>False</td>\n",
       "      <td>social drinker</td>\n",
       "      <td>formal</td>\n",
       "      <td>family</td>\n",
       "      <td>public</td>\n",
       "      <td>single</td>\n",
       "      <td>none</td>\n",
       "      <td>hard-worker</td>\n",
       "      <td>Catholic</td>\n",
       "      <td>student</td>\n",
       "      <td>low</td>\n",
       "      <td>3</td>\n",
       "      <td>1461</td>\n",
       "    </tr>\n",
       "    <tr>\n",
       "      <th>3</th>\n",
       "      <td>male</td>\n",
       "      <td>False</td>\n",
       "      <td>abstemious</td>\n",
       "      <td>informal</td>\n",
       "      <td>family</td>\n",
       "      <td>public</td>\n",
       "      <td>single</td>\n",
       "      <td>variety</td>\n",
       "      <td>hard-worker</td>\n",
       "      <td>none</td>\n",
       "      <td>professional</td>\n",
       "      <td>medium</td>\n",
       "      <td>18</td>\n",
       "      <td>4014</td>\n",
       "    </tr>\n",
       "    <tr>\n",
       "      <th>4</th>\n",
       "      <td>female</td>\n",
       "      <td>False</td>\n",
       "      <td>abstemious</td>\n",
       "      <td>no preference</td>\n",
       "      <td>family</td>\n",
       "      <td>public</td>\n",
       "      <td>single</td>\n",
       "      <td>none</td>\n",
       "      <td>thrifty-protector</td>\n",
       "      <td>Catholic</td>\n",
       "      <td>student</td>\n",
       "      <td>medium</td>\n",
       "      <td>15</td>\n",
       "      <td>3045</td>\n",
       "    </tr>\n",
       "  </tbody>\n",
       "</table>\n",
       "</div>"
      ],
      "text/plain": [
       "   gender smoker     drink_level dress_preference ambience transport  \\\n",
       "0    male  False      abstemious         informal   family   on foot   \n",
       "1  female  False      abstemious         informal   family    public   \n",
       "2  female  False  social drinker           formal   family    public   \n",
       "3    male  False      abstemious         informal   family    public   \n",
       "4  female  False      abstemious    no preference   family    public   \n",
       "\n",
       "  marital_status    interest          personality  religion      activity  \\\n",
       "0         single     variety    thrifty-protector      none       student   \n",
       "1         single  technology  hunter-ostentatious  Catholic       student   \n",
       "2         single        none          hard-worker  Catholic       student   \n",
       "3         single     variety          hard-worker      none  professional   \n",
       "4         single        none    thrifty-protector  Catholic       student   \n",
       "\n",
       "   income  FRVPM  AERPM  \n",
       "0  medium     12   2976  \n",
       "1     low     12   3648  \n",
       "2     low      3   1461  \n",
       "3  medium     18   4014  \n",
       "4  medium     15   3045  "
      ]
     },
     "execution_count": 3,
     "metadata": {},
     "output_type": "execute_result"
    }
   ],
   "source": [
    "consumer_survey = pd.read_excel(\"D:\\\\Data Analysis\\\\Data\\\\consumer_survey.xlsx\")\n",
    "consumer_survey.head()"
   ]
  },
  {
   "cell_type": "code",
   "execution_count": 4,
   "id": "d9af4d98",
   "metadata": {},
   "outputs": [
    {
     "data": {
      "text/html": [
       "<div>\n",
       "<style scoped>\n",
       "    .dataframe tbody tr th:only-of-type {\n",
       "        vertical-align: middle;\n",
       "    }\n",
       "\n",
       "    .dataframe tbody tr th {\n",
       "        vertical-align: top;\n",
       "    }\n",
       "\n",
       "    .dataframe thead th {\n",
       "        text-align: right;\n",
       "    }\n",
       "</style>\n",
       "<table border=\"1\" class=\"dataframe\">\n",
       "  <thead>\n",
       "    <tr style=\"text-align: right;\">\n",
       "      <th></th>\n",
       "      <th>placeID</th>\n",
       "      <th>parking_lot</th>\n",
       "    </tr>\n",
       "  </thead>\n",
       "  <tbody>\n",
       "    <tr>\n",
       "      <th>0</th>\n",
       "      <td>135111</td>\n",
       "      <td>public</td>\n",
       "    </tr>\n",
       "    <tr>\n",
       "      <th>1</th>\n",
       "      <td>135110</td>\n",
       "      <td>none</td>\n",
       "    </tr>\n",
       "    <tr>\n",
       "      <th>2</th>\n",
       "      <td>135109</td>\n",
       "      <td>none</td>\n",
       "    </tr>\n",
       "    <tr>\n",
       "      <th>3</th>\n",
       "      <td>135108</td>\n",
       "      <td>none</td>\n",
       "    </tr>\n",
       "    <tr>\n",
       "      <th>4</th>\n",
       "      <td>135107</td>\n",
       "      <td>none</td>\n",
       "    </tr>\n",
       "  </tbody>\n",
       "</table>\n",
       "</div>"
      ],
      "text/plain": [
       "   placeID parking_lot\n",
       "0   135111      public\n",
       "1   135110        none\n",
       "2   135109        none\n",
       "3   135108        none\n",
       "4   135107        none"
      ]
     },
     "execution_count": 4,
     "metadata": {},
     "output_type": "execute_result"
    }
   ],
   "source": [
    "restaurant_parking = pd.read_excel(\"D:\\\\Data Analysis\\\\Data\\\\restaurant_parking.xlsx\")\n",
    "restaurant_parking.head()"
   ]
  },
  {
   "cell_type": "code",
   "execution_count": 5,
   "id": "e6995808",
   "metadata": {},
   "outputs": [
    {
     "data": {
      "text/html": [
       "<div>\n",
       "<style scoped>\n",
       "    .dataframe tbody tr th:only-of-type {\n",
       "        vertical-align: middle;\n",
       "    }\n",
       "\n",
       "    .dataframe tbody tr th {\n",
       "        vertical-align: top;\n",
       "    }\n",
       "\n",
       "    .dataframe thead th {\n",
       "        text-align: right;\n",
       "    }\n",
       "</style>\n",
       "<table border=\"1\" class=\"dataframe\">\n",
       "  <thead>\n",
       "    <tr style=\"text-align: right;\">\n",
       "      <th></th>\n",
       "      <th>Year</th>\n",
       "      <th>Dine_In</th>\n",
       "      <th>Home_Delivery</th>\n",
       "    </tr>\n",
       "  </thead>\n",
       "  <tbody>\n",
       "    <tr>\n",
       "      <th>0</th>\n",
       "      <td>1990</td>\n",
       "      <td>5649</td>\n",
       "      <td>0</td>\n",
       "    </tr>\n",
       "    <tr>\n",
       "      <th>1</th>\n",
       "      <td>1991</td>\n",
       "      <td>5539</td>\n",
       "      <td>0</td>\n",
       "    </tr>\n",
       "    <tr>\n",
       "      <th>2</th>\n",
       "      <td>1992</td>\n",
       "      <td>5760</td>\n",
       "      <td>104</td>\n",
       "    </tr>\n",
       "    <tr>\n",
       "      <th>3</th>\n",
       "      <td>1993</td>\n",
       "      <td>6509</td>\n",
       "      <td>76</td>\n",
       "    </tr>\n",
       "    <tr>\n",
       "      <th>4</th>\n",
       "      <td>1994</td>\n",
       "      <td>6982</td>\n",
       "      <td>156</td>\n",
       "    </tr>\n",
       "  </tbody>\n",
       "</table>\n",
       "</div>"
      ],
      "text/plain": [
       "   Year  Dine_In  Home_Delivery\n",
       "0  1990     5649              0\n",
       "1  1991     5539              0\n",
       "2  1992     5760            104\n",
       "3  1993     6509             76\n",
       "4  1994     6982            156"
      ]
     },
     "execution_count": 5,
     "metadata": {},
     "output_type": "execute_result"
    }
   ],
   "source": [
    "dining_preferences=pd.read_excel(\"D:\\\\Data Analysis\\\\Data\\\\dining_preferences.xlsx\")\n",
    "dining_preferences.head()"
   ]
  },
  {
   "cell_type": "code",
   "execution_count": 6,
   "id": "faf861c5",
   "metadata": {},
   "outputs": [
    {
     "data": {
      "text/html": [
       "<div>\n",
       "<style scoped>\n",
       "    .dataframe tbody tr th:only-of-type {\n",
       "        vertical-align: middle;\n",
       "    }\n",
       "\n",
       "    .dataframe tbody tr th {\n",
       "        vertical-align: top;\n",
       "    }\n",
       "\n",
       "    .dataframe thead th {\n",
       "        text-align: right;\n",
       "    }\n",
       "</style>\n",
       "<table border=\"1\" class=\"dataframe\">\n",
       "  <thead>\n",
       "    <tr style=\"text-align: right;\">\n",
       "      <th></th>\n",
       "      <th>placeID</th>\n",
       "      <th>name</th>\n",
       "      <th>address</th>\n",
       "      <th>state</th>\n",
       "      <th>country</th>\n",
       "      <th>zip</th>\n",
       "      <th>alcohol</th>\n",
       "      <th>smoking_area</th>\n",
       "      <th>price</th>\n",
       "      <th>area</th>\n",
       "      <th>other_services</th>\n",
       "      <th>Region</th>\n",
       "      <th>Average_dine_in_per_month</th>\n",
       "    </tr>\n",
       "  </thead>\n",
       "  <tbody>\n",
       "    <tr>\n",
       "      <th>0</th>\n",
       "      <td>134999</td>\n",
       "      <td>KikuCuernavaca</td>\n",
       "      <td>Revolucion</td>\n",
       "      <td>Morelos</td>\n",
       "      <td>Mexico</td>\n",
       "      <td>NaN</td>\n",
       "      <td>No_Alcohol_Served</td>\n",
       "      <td>NaN</td>\n",
       "      <td>medium</td>\n",
       "      <td>closed</td>\n",
       "      <td>NaN</td>\n",
       "      <td>West</td>\n",
       "      <td>677.0</td>\n",
       "    </tr>\n",
       "    <tr>\n",
       "      <th>1</th>\n",
       "      <td>132825</td>\n",
       "      <td>puestodetacos</td>\n",
       "      <td>esquinasantosdegolladoyleonguzman</td>\n",
       "      <td>s.l.p.</td>\n",
       "      <td>mexico</td>\n",
       "      <td>78280</td>\n",
       "      <td>No_Alcohol_Served</td>\n",
       "      <td>NaN</td>\n",
       "      <td>low</td>\n",
       "      <td>open</td>\n",
       "      <td>NaN</td>\n",
       "      <td>West</td>\n",
       "      <td>NaN</td>\n",
       "    </tr>\n",
       "    <tr>\n",
       "      <th>2</th>\n",
       "      <td>135106</td>\n",
       "      <td>ElRincondeSanFrancisco</td>\n",
       "      <td>Universidad169</td>\n",
       "      <td>SanLuisPotosi</td>\n",
       "      <td>Mexico</td>\n",
       "      <td>78000</td>\n",
       "      <td>Wine-Beer</td>\n",
       "      <td>onlyatbar</td>\n",
       "      <td>medium</td>\n",
       "      <td>open</td>\n",
       "      <td>NaN</td>\n",
       "      <td>East</td>\n",
       "      <td>NaN</td>\n",
       "    </tr>\n",
       "    <tr>\n",
       "      <th>3</th>\n",
       "      <td>132667</td>\n",
       "      <td>littlepizzaEmilioPortesGil</td>\n",
       "      <td>calleemilioportesgil</td>\n",
       "      <td>tamaulipas</td>\n",
       "      <td>NaN</td>\n",
       "      <td>NaN</td>\n",
       "      <td>No_Alcohol_Served</td>\n",
       "      <td>NaN</td>\n",
       "      <td>low</td>\n",
       "      <td>closed</td>\n",
       "      <td>NaN</td>\n",
       "      <td>East</td>\n",
       "      <td>546.0</td>\n",
       "    </tr>\n",
       "    <tr>\n",
       "      <th>4</th>\n",
       "      <td>132613</td>\n",
       "      <td>carnitas_mata</td>\n",
       "      <td>lic.Emilioportesgil</td>\n",
       "      <td>Tamaulipas</td>\n",
       "      <td>Mexico</td>\n",
       "      <td>NaN</td>\n",
       "      <td>No_Alcohol_Served</td>\n",
       "      <td>permitted</td>\n",
       "      <td>medium</td>\n",
       "      <td>closed</td>\n",
       "      <td>NaN</td>\n",
       "      <td>East</td>\n",
       "      <td>697.0</td>\n",
       "    </tr>\n",
       "  </tbody>\n",
       "</table>\n",
       "</div>"
      ],
      "text/plain": [
       "   placeID                        name                            address  \\\n",
       "0   134999              KikuCuernavaca                         Revolucion   \n",
       "1   132825               puestodetacos  esquinasantosdegolladoyleonguzman   \n",
       "2   135106      ElRincondeSanFrancisco                     Universidad169   \n",
       "3   132667  littlepizzaEmilioPortesGil               calleemilioportesgil   \n",
       "4   132613               carnitas_mata                lic.Emilioportesgil   \n",
       "\n",
       "           state country    zip            alcohol smoking_area   price  \\\n",
       "0        Morelos  Mexico    NaN  No_Alcohol_Served          NaN  medium   \n",
       "1         s.l.p.  mexico  78280  No_Alcohol_Served          NaN     low   \n",
       "2  SanLuisPotosi  Mexico  78000          Wine-Beer    onlyatbar  medium   \n",
       "3     tamaulipas     NaN    NaN  No_Alcohol_Served          NaN     low   \n",
       "4     Tamaulipas  Mexico    NaN  No_Alcohol_Served    permitted  medium   \n",
       "\n",
       "     area other_services Region  Average_dine_in_per_month  \n",
       "0  closed            NaN   West                      677.0  \n",
       "1    open            NaN   West                        NaN  \n",
       "2    open            NaN   East                        NaN  \n",
       "3  closed            NaN   East                      546.0  \n",
       "4  closed            NaN   East                      697.0  "
      ]
     },
     "execution_count": 6,
     "metadata": {},
     "output_type": "execute_result"
    }
   ],
   "source": [
    "restaurant_details = pd.read_csv(\"D:\\\\Data Analysis\\\\Data\\\\restaurant_details2.csv\")\n",
    "restaurant_details.head()"
   ]
  },
  {
   "cell_type": "markdown",
   "id": "a590a9f8",
   "metadata": {},
   "source": [
    "## importing data from database"
   ]
  },
  {
   "cell_type": "code",
   "execution_count": 7,
   "id": "210a69cd",
   "metadata": {},
   "outputs": [
    {
     "data": {
      "text/html": [
       "<div>\n",
       "<style scoped>\n",
       "    .dataframe tbody tr th:only-of-type {\n",
       "        vertical-align: middle;\n",
       "    }\n",
       "\n",
       "    .dataframe tbody tr th {\n",
       "        vertical-align: top;\n",
       "    }\n",
       "\n",
       "    .dataframe thead th {\n",
       "        text-align: right;\n",
       "    }\n",
       "</style>\n",
       "<table border=\"1\" class=\"dataframe\">\n",
       "  <thead>\n",
       "    <tr style=\"text-align: right;\">\n",
       "      <th></th>\n",
       "      <th>placeID</th>\n",
       "      <th>Rcuisine</th>\n",
       "    </tr>\n",
       "  </thead>\n",
       "  <tbody>\n",
       "    <tr>\n",
       "      <th>0</th>\n",
       "      <td>135110.0</td>\n",
       "      <td>Spanish</td>\n",
       "    </tr>\n",
       "    <tr>\n",
       "      <th>1</th>\n",
       "      <td>135109.0</td>\n",
       "      <td>Italian</td>\n",
       "    </tr>\n",
       "    <tr>\n",
       "      <th>2</th>\n",
       "      <td>135107.0</td>\n",
       "      <td>Latin_American</td>\n",
       "    </tr>\n",
       "    <tr>\n",
       "      <th>3</th>\n",
       "      <td>135106.0</td>\n",
       "      <td>Mexican</td>\n",
       "    </tr>\n",
       "    <tr>\n",
       "      <th>4</th>\n",
       "      <td>135105.0</td>\n",
       "      <td>Fast_Food</td>\n",
       "    </tr>\n",
       "  </tbody>\n",
       "</table>\n",
       "</div>"
      ],
      "text/plain": [
       "    placeID        Rcuisine\n",
       "0  135110.0         Spanish\n",
       "1  135109.0         Italian\n",
       "2  135107.0  Latin_American\n",
       "3  135106.0         Mexican\n",
       "4  135105.0       Fast_Food"
      ]
     },
     "execution_count": 7,
     "metadata": {},
     "output_type": "execute_result"
    }
   ],
   "source": [
    "import pyodbc\n",
    "conn_str = (r'Driver={Microsoft Access Driver (*.mdb, *.accdb)};DBQ=D:\\Data Analysis\\Data\\restaurant_cuisine.accdb;')\n",
    "conn= pyodbc.connect(conn_str)\n",
    "cuisine =pd.read_sql('select *from cuisine', conn)\n",
    "conn.close()\n",
    "cuisine.head()"
   ]
  },
  {
   "cell_type": "markdown",
   "id": "31f75a85",
   "metadata": {},
   "source": [
    "## importing data from semi-structured files"
   ]
  },
  {
   "cell_type": "code",
   "execution_count": 8,
   "id": "c680b694",
   "metadata": {},
   "outputs": [
    {
     "name": "stdout",
     "output_type": "stream",
     "text": [
      "Restaurant Id: 41955207\n"
     ]
    }
   ],
   "source": [
    "# importing XML data\n",
    "import xml.etree.ElementTree as ET\n",
    "tree=ET.parse(\"D:\\\\Data Analysis\\\\Data\\\\reviews.xml\")\n",
    "root = tree.getroot()\n",
    "print(root.tag,\"Id:\",root.attrib['id'])"
   ]
  },
  {
   "cell_type": "code",
   "execution_count": 9,
   "id": "a4980f13",
   "metadata": {},
   "outputs": [
    {
     "data": {
      "text/plain": [
       "{'Name': 'Staghorn Steakhouse',\n",
       " 'ZipCode': '10018',\n",
       " 'Cuisines': 'Seafood, Steakhouse',\n",
       " 'PriceLevel': None,\n",
       " 'Hours': None,\n",
       " 'Payment': None,\n",
       " 'DressCode': None,\n",
       " 'SpecialFeatures': ['Notable Wine List',\n",
       "  'Business Dining',\n",
       "  'Romantic Dining',\n",
       "  'Group Dining',\n",
       "  'Fine Dining'],\n",
       " 'PromptSeating': 'yes',\n",
       " 'MakeReservation': 'yes',\n",
       " 'Romantic': 'yes',\n",
       " 'GoodForKids': 'no',\n",
       " 'GoodForGroups': 'yes',\n",
       " 'Reviews': [{'ReviewId': '1741211',\n",
       "   'UserType': 'Customer',\n",
       "   'Title': 'like eating in a funeral parlor!',\n",
       "   'Username': 'pauli68',\n",
       "   'Date': '07/28/2006',\n",
       "   'TotalRatedHelpful': '\\n      ',\n",
       "   'TotalRated': '\\n      ',\n",
       "   'Body': \"awful start to finish. went on a nice thursday night and we were 1 of only 2 tables in the whole place. zero atmosphere, overpriced menu, average food. we ordered the bacon appetizer thinking it would be similar to Lugers or any other reputable steakhouse - WRONG. They brought out tiny pieces of Oscar Meyer breakfast bacon. Eastern European waitstaff doesn't get the customer service thing either. save your money, boycott these average spots and lets keep NY restaurants on top.\",\n",
       "   'Rating': '2',\n",
       "   'Pros': 'easy to get a table because its awful',\n",
       "   'Cons': 'read the review'},\n",
       "  {'ReviewId': '1741279',\n",
       "   'UserType': 'Customer',\n",
       "   'Title': 'Hurry up and get to this place!',\n",
       "   'Username': 'chainsaw06',\n",
       "   'Date': '07/28/2006',\n",
       "   'TotalRatedHelpful': '\\n      ',\n",
       "   'TotalRated': '\\n      ',\n",
       "   'Body': \"Get there quick because by next week they will be selling all the fancy furniture and kitchen equipment on EBay! Where do I begin. They pour a fantastic glass of ice water and that's it! The bread on the table was harder than titanium. Maybe it wasn't supposed to be eaten just for decoration. The bacon appetizer doesn't even compare to Army MREs. I would say maybe on par with hospital food. The shrimp cocktail was just average until my waiter put his dirty sleeve in my plate...Thank you now its really tasty. I think the waitstaff was hired away from the KFC down the block. This place is history!!\",\n",
       "   'Rating': '1',\n",
       "   'Pros': 'Brand new clean bathrooms',\n",
       "   'Cons': 'Expensive'},\n",
       "  {'ReviewId': '1732945',\n",
       "   'UserType': 'Customer',\n",
       "   'Title': 'Great Steaks / Great Service',\n",
       "   'Username': 'larrybird33',\n",
       "   'Date': '07/19/2006',\n",
       "   'TotalRatedHelpful': '\\n      ',\n",
       "   'TotalRated': '\\n      ',\n",
       "   'Body': 'Got caught at the last minute looking for a restaurant on the West Side to take important clients, and held my breath coming here for the first time. But what a great place! Understated but sleek decor, prompt/attentive/not overbearing service, stiff drinks from the bar, and awesome steaks. Will definitely return.',\n",
       "   'Rating': '5',\n",
       "   'Pros': 'Steaks, drinks and service',\n",
       "   'Cons': 'Somewhat pricey'},\n",
       "  {'ReviewId': '1720570',\n",
       "   'UserType': 'Customer',\n",
       "   'Title': 'Great atmosphere and food to match!!!',\n",
       "   'Username': 'lax111',\n",
       "   'Date': '07/11/2006',\n",
       "   'TotalRatedHelpful': '\\n      ',\n",
       "   'TotalRated': '\\n      ',\n",
       "   'Body': 'I was at an event at the Garden and found Staghorn right near there so went with some friends for dinner. What a nice restaurant. The steak of course was great and the drinks were made nice and strong. Service was just as good. I would definitely suggest have dinner one night if you are in the area!!!',\n",
       "   'Rating': '5',\n",
       "   'Pros': '\\n      ',\n",
       "   'Cons': '\\n      '}]}"
      ]
     },
     "execution_count": 9,
     "metadata": {},
     "output_type": "execute_result"
    }
   ],
   "source": [
    "restaurantDict={}\n",
    "reviewDict={}\n",
    "SpecialFeaturesList=[]\n",
    "reviewList=[]\n",
    "\n",
    "for element in root:\n",
    "    restaurantDict.update({element.tag:element.text})\n",
    "    for subelem in element:\n",
    "        if element.tag==\"SpecialFeatures\":\n",
    "            SpecialFeaturesList.append(subelem.text)\n",
    "            restaurantDict.update({\"SpecialFeatures\":SpecialFeaturesList})\n",
    "        if element.tag==\"Reviews\":\n",
    "            reviewDict={}\n",
    "            reviewDict.update({\"ReviewId\": subelem.attrib['id']})\n",
    "            for subsubelem in subelem:\n",
    "                reviewDict.update({subsubelem.tag:subsubelem.text})\n",
    "            reviewList.append(reviewDict)\n",
    "            restaurantDict.update({\"Reviews\":reviewList})\n",
    "\n",
    "restaurantDict\n",
    "        "
   ]
  },
  {
   "cell_type": "markdown",
   "id": "f2ab9725",
   "metadata": {},
   "source": [
    "### to read content more legibly"
   ]
  },
  {
   "cell_type": "code",
   "execution_count": 10,
   "id": "aaf83ad2",
   "metadata": {},
   "outputs": [
    {
     "name": "stdout",
     "output_type": "stream",
     "text": [
      "Restaurant Id: 41955207\n",
      "-------------------------------------------------------------------\n",
      "Name : Staghorn Steakhouse\n",
      "ZipCode : 10018\n",
      "Cuisines : Seafood, Steakhouse\n",
      "PriceLevel : None\n",
      "Hours : None\n",
      "Payment : None\n",
      "DressCode : None\n",
      "SpecialFeatures : ['Notable Wine List', 'Business Dining', 'Romantic Dining', 'Group Dining', 'Fine Dining']\n",
      "PromptSeating : yes\n",
      "MakeReservation : yes\n",
      "Romantic : yes\n",
      "GoodForKids : no\n",
      "GoodForGroups : yes\n",
      "Reviews :\n",
      "ReviewId : 1741211\n",
      "UserType : Customer\n",
      "Title : like eating in a funeral parlor!\n",
      "Username : pauli68\n",
      "Date : 07/28/2006\n",
      "TotalRatedHelpful : \n",
      "      \n",
      "TotalRated : \n",
      "      \n",
      "Body : awful start to finish. went on a nice thursday night and we were 1 of only 2 tables in the whole place. zero atmosphere, overpriced menu, average food. we ordered the bacon appetizer thinking it would be similar to Lugers or any other reputable steakhouse - WRONG. They brought out tiny pieces of Oscar Meyer breakfast bacon. Eastern European waitstaff doesn't get the customer service thing either. save your money, boycott these average spots and lets keep NY restaurants on top.\n",
      "Rating : 2\n",
      "Pros : easy to get a table because its awful\n",
      "Cons : read the review\n",
      "\n",
      "--------------------------------------------------------------\n",
      "ReviewId : 1741279\n",
      "UserType : Customer\n",
      "Title : Hurry up and get to this place!\n",
      "Username : chainsaw06\n",
      "Date : 07/28/2006\n",
      "TotalRatedHelpful : \n",
      "      \n",
      "TotalRated : \n",
      "      \n",
      "Body : Get there quick because by next week they will be selling all the fancy furniture and kitchen equipment on EBay! Where do I begin. They pour a fantastic glass of ice water and that's it! The bread on the table was harder than titanium. Maybe it wasn't supposed to be eaten just for decoration. The bacon appetizer doesn't even compare to Army MREs. I would say maybe on par with hospital food. The shrimp cocktail was just average until my waiter put his dirty sleeve in my plate...Thank you now its really tasty. I think the waitstaff was hired away from the KFC down the block. This place is history!!\n",
      "Rating : 1\n",
      "Pros : Brand new clean bathrooms\n",
      "Cons : Expensive\n",
      "\n",
      "--------------------------------------------------------------\n",
      "ReviewId : 1732945\n",
      "UserType : Customer\n",
      "Title : Great Steaks / Great Service\n",
      "Username : larrybird33\n",
      "Date : 07/19/2006\n",
      "TotalRatedHelpful : \n",
      "      \n",
      "TotalRated : \n",
      "      \n",
      "Body : Got caught at the last minute looking for a restaurant on the West Side to take important clients, and held my breath coming here for the first time. But what a great place! Understated but sleek decor, prompt/attentive/not overbearing service, stiff drinks from the bar, and awesome steaks. Will definitely return.\n",
      "Rating : 5\n",
      "Pros : Steaks, drinks and service\n",
      "Cons : Somewhat pricey\n",
      "\n",
      "--------------------------------------------------------------\n",
      "ReviewId : 1720570\n",
      "UserType : Customer\n",
      "Title : Great atmosphere and food to match!!!\n",
      "Username : lax111\n",
      "Date : 07/11/2006\n",
      "TotalRatedHelpful : \n",
      "      \n",
      "TotalRated : \n",
      "      \n",
      "Body : I was at an event at the Garden and found Staghorn right near there so went with some friends for dinner. What a nice restaurant. The steak of course was great and the drinks were made nice and strong. Service was just as good. I would definitely suggest have dinner one night if you are in the area!!!\n",
      "Rating : 5\n",
      "Pros : \n",
      "      \n",
      "Cons : \n",
      "      \n",
      "\n",
      "--------------------------------------------------------------\n"
     ]
    }
   ],
   "source": [
    "print(root.tag,\"Id:\", root.attrib['id'])\n",
    "print(\"-------------------------------------------------------------------\")\n",
    "\n",
    "for key, val in restaurantDict.items():\n",
    "    if key ==\"Reviews\":\n",
    "        print(key,\":\")\n",
    "        for reviews in val:\n",
    "            for keyR, valR in reviews.items():\n",
    "                print(keyR,\":\",valR)\n",
    "            print(\"\\n--------------------------------------------------------------\")\n",
    "    else:\n",
    "        print(key,\":\",val)\n",
    "    \n",
    "        "
   ]
  },
  {
   "cell_type": "markdown",
   "id": "c92e9fcc",
   "metadata": {},
   "source": [
    "### Reading data from unstructured text file"
   ]
  },
  {
   "cell_type": "code",
   "execution_count": 11,
   "id": "a15fedf6",
   "metadata": {},
   "outputs": [
    {
     "data": {
      "text/html": [
       "<div>\n",
       "<style scoped>\n",
       "    .dataframe tbody tr th:only-of-type {\n",
       "        vertical-align: middle;\n",
       "    }\n",
       "\n",
       "    .dataframe tbody tr th {\n",
       "        vertical-align: top;\n",
       "    }\n",
       "\n",
       "    .dataframe thead th {\n",
       "        text-align: right;\n",
       "    }\n",
       "</style>\n",
       "<table border=\"1\" class=\"dataframe\">\n",
       "  <thead>\n",
       "    <tr style=\"text-align: right;\">\n",
       "      <th></th>\n",
       "      <th>Reviews</th>\n",
       "    </tr>\n",
       "  </thead>\n",
       "  <tbody>\n",
       "    <tr>\n",
       "      <th>0</th>\n",
       "      <td>The food for our event was delicious .</td>\n",
       "    </tr>\n",
       "    <tr>\n",
       "      <th>1</th>\n",
       "      <td>The food in the lounge was great and very fre...</td>\n",
       "    </tr>\n",
       "    <tr>\n",
       "      <th>2</th>\n",
       "      <td>As far as food, walk a few blocks toward Mich...</td>\n",
       "    </tr>\n",
       "    <tr>\n",
       "      <th>3</th>\n",
       "      <td>The Palm resturant in the hotel had some spec...</td>\n",
       "    </tr>\n",
       "    <tr>\n",
       "      <th>4</th>\n",
       "      <td>Took the charge of the minibar which we had u...</td>\n",
       "    </tr>\n",
       "  </tbody>\n",
       "</table>\n",
       "</div>"
      ],
      "text/plain": [
       "                                             Reviews\n",
       "0             The food for our event was delicious .\n",
       "1   The food in the lounge was great and very fre...\n",
       "2   As far as food, walk a few blocks toward Mich...\n",
       "3   The Palm resturant in the hotel had some spec...\n",
       "4   Took the charge of the minibar which we had u..."
      ]
     },
     "execution_count": 11,
     "metadata": {},
     "output_type": "execute_result"
    }
   ],
   "source": [
    "feedback=pd.read_table(\"D:/Data Analysis/Data/feedback.txt\",names=[\"Reviews\"])\n",
    "feedback.head()"
   ]
  },
  {
   "cell_type": "markdown",
   "id": "c9598a97",
   "metadata": {},
   "source": [
    "## Data Pre-processing"
   ]
  },
  {
   "cell_type": "code",
   "execution_count": 12,
   "id": "5b840ed5",
   "metadata": {},
   "outputs": [
    {
     "data": {
      "text/plain": [
       "placeID                      False\n",
       "name                         False\n",
       "address                       True\n",
       "state                         True\n",
       "country                       True\n",
       "zip                           True\n",
       "alcohol                      False\n",
       "smoking_area                  True\n",
       "price                        False\n",
       "area                         False\n",
       "other_services                True\n",
       "Region                       False\n",
       "Average_dine_in_per_month     True\n",
       "dtype: bool"
      ]
     },
     "execution_count": 12,
     "metadata": {},
     "output_type": "execute_result"
    }
   ],
   "source": [
    "# Identifying attributes with rows which have NaN values\n",
    "restaurant_details.isna().any()"
   ]
  },
  {
   "cell_type": "code",
   "execution_count": 13,
   "id": "82c98675",
   "metadata": {},
   "outputs": [
    {
     "data": {
      "text/plain": [
       "0      True\n",
       "1      True\n",
       "2      True\n",
       "3      True\n",
       "4      True\n",
       "       ... \n",
       "125    True\n",
       "126    True\n",
       "127    True\n",
       "128    True\n",
       "129    True\n",
       "Length: 130, dtype: bool"
      ]
     },
     "execution_count": 13,
     "metadata": {},
     "output_type": "execute_result"
    }
   ],
   "source": [
    "# identifying empty rows\n",
    "restaurant_details.isna().any( axis=1)"
   ]
  },
  {
   "cell_type": "code",
   "execution_count": 14,
   "id": "70055df2",
   "metadata": {},
   "outputs": [
    {
     "data": {
      "text/html": [
       "<div>\n",
       "<style scoped>\n",
       "    .dataframe tbody tr th:only-of-type {\n",
       "        vertical-align: middle;\n",
       "    }\n",
       "\n",
       "    .dataframe tbody tr th {\n",
       "        vertical-align: top;\n",
       "    }\n",
       "\n",
       "    .dataframe thead th {\n",
       "        text-align: right;\n",
       "    }\n",
       "</style>\n",
       "<table border=\"1\" class=\"dataframe\">\n",
       "  <thead>\n",
       "    <tr style=\"text-align: right;\">\n",
       "      <th></th>\n",
       "      <th>placeID</th>\n",
       "      <th>name</th>\n",
       "      <th>address</th>\n",
       "      <th>state</th>\n",
       "      <th>country</th>\n",
       "      <th>zip</th>\n",
       "      <th>alcohol</th>\n",
       "      <th>smoking_area</th>\n",
       "      <th>price</th>\n",
       "      <th>area</th>\n",
       "      <th>other_services</th>\n",
       "      <th>Region</th>\n",
       "      <th>Average_dine_in_per_month</th>\n",
       "    </tr>\n",
       "  </thead>\n",
       "  <tbody>\n",
       "    <tr>\n",
       "      <th>0</th>\n",
       "      <td>134999</td>\n",
       "      <td>KikuCuernavaca</td>\n",
       "      <td>Revolucion</td>\n",
       "      <td>Morelos</td>\n",
       "      <td>Mexico</td>\n",
       "      <td>NaN</td>\n",
       "      <td>No_Alcohol_Served</td>\n",
       "      <td>NaN</td>\n",
       "      <td>medium</td>\n",
       "      <td>closed</td>\n",
       "      <td>NaN</td>\n",
       "      <td>West</td>\n",
       "      <td>677.0</td>\n",
       "    </tr>\n",
       "    <tr>\n",
       "      <th>1</th>\n",
       "      <td>132825</td>\n",
       "      <td>puestodetacos</td>\n",
       "      <td>esquinasantosdegolladoyleonguzman</td>\n",
       "      <td>s.l.p.</td>\n",
       "      <td>mexico</td>\n",
       "      <td>78280</td>\n",
       "      <td>No_Alcohol_Served</td>\n",
       "      <td>NaN</td>\n",
       "      <td>low</td>\n",
       "      <td>open</td>\n",
       "      <td>NaN</td>\n",
       "      <td>West</td>\n",
       "      <td>NaN</td>\n",
       "    </tr>\n",
       "    <tr>\n",
       "      <th>2</th>\n",
       "      <td>135106</td>\n",
       "      <td>ElRincondeSanFrancisco</td>\n",
       "      <td>Universidad169</td>\n",
       "      <td>SanLuisPotosi</td>\n",
       "      <td>Mexico</td>\n",
       "      <td>78000</td>\n",
       "      <td>Wine-Beer</td>\n",
       "      <td>onlyatbar</td>\n",
       "      <td>medium</td>\n",
       "      <td>open</td>\n",
       "      <td>NaN</td>\n",
       "      <td>East</td>\n",
       "      <td>NaN</td>\n",
       "    </tr>\n",
       "    <tr>\n",
       "      <th>3</th>\n",
       "      <td>132667</td>\n",
       "      <td>littlepizzaEmilioPortesGil</td>\n",
       "      <td>calleemilioportesgil</td>\n",
       "      <td>tamaulipas</td>\n",
       "      <td>NaN</td>\n",
       "      <td>NaN</td>\n",
       "      <td>No_Alcohol_Served</td>\n",
       "      <td>NaN</td>\n",
       "      <td>low</td>\n",
       "      <td>closed</td>\n",
       "      <td>NaN</td>\n",
       "      <td>East</td>\n",
       "      <td>546.0</td>\n",
       "    </tr>\n",
       "    <tr>\n",
       "      <th>4</th>\n",
       "      <td>132613</td>\n",
       "      <td>carnitas_mata</td>\n",
       "      <td>lic.Emilioportesgil</td>\n",
       "      <td>Tamaulipas</td>\n",
       "      <td>Mexico</td>\n",
       "      <td>NaN</td>\n",
       "      <td>No_Alcohol_Served</td>\n",
       "      <td>permitted</td>\n",
       "      <td>medium</td>\n",
       "      <td>closed</td>\n",
       "      <td>NaN</td>\n",
       "      <td>East</td>\n",
       "      <td>697.0</td>\n",
       "    </tr>\n",
       "    <tr>\n",
       "      <th>...</th>\n",
       "      <td>...</td>\n",
       "      <td>...</td>\n",
       "      <td>...</td>\n",
       "      <td>...</td>\n",
       "      <td>...</td>\n",
       "      <td>...</td>\n",
       "      <td>...</td>\n",
       "      <td>...</td>\n",
       "      <td>...</td>\n",
       "      <td>...</td>\n",
       "      <td>...</td>\n",
       "      <td>...</td>\n",
       "      <td>...</td>\n",
       "    </tr>\n",
       "    <tr>\n",
       "      <th>125</th>\n",
       "      <td>132866</td>\n",
       "      <td>Chaires</td>\n",
       "      <td>RicardoB.Anaya</td>\n",
       "      <td>SanLuisPotosi</td>\n",
       "      <td>Mexico</td>\n",
       "      <td>NaN</td>\n",
       "      <td>No_Alcohol_Served</td>\n",
       "      <td>notpermitted</td>\n",
       "      <td>medium</td>\n",
       "      <td>closed</td>\n",
       "      <td>NaN</td>\n",
       "      <td>West</td>\n",
       "      <td>691.0</td>\n",
       "    </tr>\n",
       "    <tr>\n",
       "      <th>126</th>\n",
       "      <td>135072</td>\n",
       "      <td>SushiItto</td>\n",
       "      <td>VenustianoCarranza1809CPolanco</td>\n",
       "      <td>SLP</td>\n",
       "      <td>Mexico</td>\n",
       "      <td>78220</td>\n",
       "      <td>No_Alcohol_Served</td>\n",
       "      <td>NaN</td>\n",
       "      <td>medium</td>\n",
       "      <td>closed</td>\n",
       "      <td>NaN</td>\n",
       "      <td>West</td>\n",
       "      <td>744.0</td>\n",
       "    </tr>\n",
       "    <tr>\n",
       "      <th>127</th>\n",
       "      <td>135109</td>\n",
       "      <td>Paniroles</td>\n",
       "      <td>NaN</td>\n",
       "      <td>NaN</td>\n",
       "      <td>NaN</td>\n",
       "      <td>NaN</td>\n",
       "      <td>Wine-Beer</td>\n",
       "      <td>notpermitted</td>\n",
       "      <td>medium</td>\n",
       "      <td>closed</td>\n",
       "      <td>Internet</td>\n",
       "      <td>East</td>\n",
       "      <td>191.0</td>\n",
       "    </tr>\n",
       "    <tr>\n",
       "      <th>128</th>\n",
       "      <td>135019</td>\n",
       "      <td>RestaurantBarCotyyPablo</td>\n",
       "      <td>PaseodeLasFuentes24PedregaldeLasFuentes</td>\n",
       "      <td>Morelos</td>\n",
       "      <td>Mexico</td>\n",
       "      <td>NaN</td>\n",
       "      <td>No_Alcohol_Served</td>\n",
       "      <td>NaN</td>\n",
       "      <td>low</td>\n",
       "      <td>closed</td>\n",
       "      <td>NaN</td>\n",
       "      <td>West</td>\n",
       "      <td>926.0</td>\n",
       "    </tr>\n",
       "    <tr>\n",
       "      <th>129</th>\n",
       "      <td>132877</td>\n",
       "      <td>sirloinstockade</td>\n",
       "      <td>NaN</td>\n",
       "      <td>NaN</td>\n",
       "      <td>NaN</td>\n",
       "      <td>NaN</td>\n",
       "      <td>No_Alcohol_Served</td>\n",
       "      <td>NaN</td>\n",
       "      <td>low</td>\n",
       "      <td>closed</td>\n",
       "      <td>NaN</td>\n",
       "      <td>East</td>\n",
       "      <td>668.0</td>\n",
       "    </tr>\n",
       "  </tbody>\n",
       "</table>\n",
       "<p>130 rows × 13 columns</p>\n",
       "</div>"
      ],
      "text/plain": [
       "     placeID                        name  \\\n",
       "0     134999              KikuCuernavaca   \n",
       "1     132825               puestodetacos   \n",
       "2     135106      ElRincondeSanFrancisco   \n",
       "3     132667  littlepizzaEmilioPortesGil   \n",
       "4     132613               carnitas_mata   \n",
       "..       ...                         ...   \n",
       "125   132866                     Chaires   \n",
       "126   135072                   SushiItto   \n",
       "127   135109                   Paniroles   \n",
       "128   135019     RestaurantBarCotyyPablo   \n",
       "129   132877             sirloinstockade   \n",
       "\n",
       "                                     address          state country    zip  \\\n",
       "0                                 Revolucion        Morelos  Mexico    NaN   \n",
       "1          esquinasantosdegolladoyleonguzman         s.l.p.  mexico  78280   \n",
       "2                             Universidad169  SanLuisPotosi  Mexico  78000   \n",
       "3                       calleemilioportesgil     tamaulipas     NaN    NaN   \n",
       "4                        lic.Emilioportesgil     Tamaulipas  Mexico    NaN   \n",
       "..                                       ...            ...     ...    ...   \n",
       "125                           RicardoB.Anaya  SanLuisPotosi  Mexico    NaN   \n",
       "126           VenustianoCarranza1809CPolanco            SLP  Mexico  78220   \n",
       "127                                      NaN            NaN     NaN    NaN   \n",
       "128  PaseodeLasFuentes24PedregaldeLasFuentes        Morelos  Mexico    NaN   \n",
       "129                                      NaN            NaN     NaN    NaN   \n",
       "\n",
       "               alcohol  smoking_area   price    area other_services Region  \\\n",
       "0    No_Alcohol_Served           NaN  medium  closed            NaN   West   \n",
       "1    No_Alcohol_Served           NaN     low    open            NaN   West   \n",
       "2            Wine-Beer     onlyatbar  medium    open            NaN   East   \n",
       "3    No_Alcohol_Served           NaN     low  closed            NaN   East   \n",
       "4    No_Alcohol_Served     permitted  medium  closed            NaN   East   \n",
       "..                 ...           ...     ...     ...            ...    ...   \n",
       "125  No_Alcohol_Served  notpermitted  medium  closed            NaN   West   \n",
       "126  No_Alcohol_Served           NaN  medium  closed            NaN   West   \n",
       "127          Wine-Beer  notpermitted  medium  closed       Internet   East   \n",
       "128  No_Alcohol_Served           NaN     low  closed            NaN   West   \n",
       "129  No_Alcohol_Served           NaN     low  closed            NaN   East   \n",
       "\n",
       "     Average_dine_in_per_month  \n",
       "0                        677.0  \n",
       "1                          NaN  \n",
       "2                          NaN  \n",
       "3                        546.0  \n",
       "4                        697.0  \n",
       "..                         ...  \n",
       "125                      691.0  \n",
       "126                      744.0  \n",
       "127                      191.0  \n",
       "128                      926.0  \n",
       "129                      668.0  \n",
       "\n",
       "[130 rows x 13 columns]"
      ]
     },
     "execution_count": 14,
     "metadata": {},
     "output_type": "execute_result"
    }
   ],
   "source": [
    "restaurant_details[restaurant_details.isna().any( axis=1)]"
   ]
  },
  {
   "cell_type": "code",
   "execution_count": 15,
   "id": "a78b85a2",
   "metadata": {},
   "outputs": [
    {
     "data": {
      "text/plain": [
       "<bound method IndexOpsMixin.tolist of Int64Index([  0,   1,   2,   3,   4,   5,   6,   7,   8,   9,\n",
       "            ...\n",
       "            120, 121, 122, 123, 124, 125, 126, 127, 128, 129],\n",
       "           dtype='int64', length=130)>"
      ]
     },
     "execution_count": 15,
     "metadata": {},
     "output_type": "execute_result"
    }
   ],
   "source": [
    "restaurant_details[restaurant_details.isna().any( axis=1)].index.tolist"
   ]
  },
  {
   "cell_type": "code",
   "execution_count": 16,
   "id": "d956955e",
   "metadata": {},
   "outputs": [
    {
     "data": {
      "text/html": [
       "<div>\n",
       "<style scoped>\n",
       "    .dataframe tbody tr th:only-of-type {\n",
       "        vertical-align: middle;\n",
       "    }\n",
       "\n",
       "    .dataframe tbody tr th {\n",
       "        vertical-align: top;\n",
       "    }\n",
       "\n",
       "    .dataframe thead th {\n",
       "        text-align: right;\n",
       "    }\n",
       "</style>\n",
       "<table border=\"1\" class=\"dataframe\">\n",
       "  <thead>\n",
       "    <tr style=\"text-align: right;\">\n",
       "      <th></th>\n",
       "      <th>placeID</th>\n",
       "      <th>name</th>\n",
       "      <th>address</th>\n",
       "      <th>state</th>\n",
       "      <th>country</th>\n",
       "      <th>zip</th>\n",
       "      <th>alcohol</th>\n",
       "      <th>smoking_area</th>\n",
       "      <th>price</th>\n",
       "      <th>area</th>\n",
       "      <th>other_services</th>\n",
       "      <th>Region</th>\n",
       "      <th>Average_dine_in_per_month</th>\n",
       "    </tr>\n",
       "  </thead>\n",
       "  <tbody>\n",
       "  </tbody>\n",
       "</table>\n",
       "</div>"
      ],
      "text/plain": [
       "Empty DataFrame\n",
       "Columns: [placeID, name, address, state, country, zip, alcohol, smoking_area, price, area, other_services, Region, Average_dine_in_per_month]\n",
       "Index: []"
      ]
     },
     "metadata": {},
     "output_type": "display_data"
    }
   ],
   "source": [
    "rd_complete=restaurant_details.dropna()\n",
    "display(rd_complete)"
   ]
  },
  {
   "cell_type": "code",
   "execution_count": 17,
   "id": "9c582dbb",
   "metadata": {},
   "outputs": [
    {
     "data": {
      "text/html": [
       "<div>\n",
       "<style scoped>\n",
       "    .dataframe tbody tr th:only-of-type {\n",
       "        vertical-align: middle;\n",
       "    }\n",
       "\n",
       "    .dataframe tbody tr th {\n",
       "        vertical-align: top;\n",
       "    }\n",
       "\n",
       "    .dataframe thead th {\n",
       "        text-align: right;\n",
       "    }\n",
       "</style>\n",
       "<table border=\"1\" class=\"dataframe\">\n",
       "  <thead>\n",
       "    <tr style=\"text-align: right;\">\n",
       "      <th></th>\n",
       "      <th>placeID</th>\n",
       "      <th>name</th>\n",
       "      <th>address</th>\n",
       "      <th>state</th>\n",
       "      <th>country</th>\n",
       "      <th>zip</th>\n",
       "      <th>alcohol</th>\n",
       "      <th>smoking_area</th>\n",
       "      <th>price</th>\n",
       "      <th>area</th>\n",
       "      <th>other_services</th>\n",
       "      <th>Region</th>\n",
       "      <th>Average_dine_in_per_month</th>\n",
       "    </tr>\n",
       "  </thead>\n",
       "  <tbody>\n",
       "    <tr>\n",
       "      <th>0</th>\n",
       "      <td>134999</td>\n",
       "      <td>KikuCuernavaca</td>\n",
       "      <td>Revolucion</td>\n",
       "      <td>Morelos</td>\n",
       "      <td>Mexico</td>\n",
       "      <td>NaN</td>\n",
       "      <td>No_Alcohol_Served</td>\n",
       "      <td>NaN</td>\n",
       "      <td>medium</td>\n",
       "      <td>closed</td>\n",
       "      <td>NaN</td>\n",
       "      <td>West</td>\n",
       "      <td>677.0</td>\n",
       "    </tr>\n",
       "    <tr>\n",
       "      <th>1</th>\n",
       "      <td>132825</td>\n",
       "      <td>puestodetacos</td>\n",
       "      <td>esquinasantosdegolladoyleonguzman</td>\n",
       "      <td>s.l.p.</td>\n",
       "      <td>mexico</td>\n",
       "      <td>78280</td>\n",
       "      <td>No_Alcohol_Served</td>\n",
       "      <td>NaN</td>\n",
       "      <td>low</td>\n",
       "      <td>open</td>\n",
       "      <td>NaN</td>\n",
       "      <td>West</td>\n",
       "      <td>NaN</td>\n",
       "    </tr>\n",
       "    <tr>\n",
       "      <th>2</th>\n",
       "      <td>135106</td>\n",
       "      <td>ElRincondeSanFrancisco</td>\n",
       "      <td>Universidad169</td>\n",
       "      <td>SanLuisPotosi</td>\n",
       "      <td>Mexico</td>\n",
       "      <td>78000</td>\n",
       "      <td>Wine-Beer</td>\n",
       "      <td>onlyatbar</td>\n",
       "      <td>medium</td>\n",
       "      <td>open</td>\n",
       "      <td>NaN</td>\n",
       "      <td>East</td>\n",
       "      <td>NaN</td>\n",
       "    </tr>\n",
       "    <tr>\n",
       "      <th>3</th>\n",
       "      <td>132667</td>\n",
       "      <td>littlepizzaEmilioPortesGil</td>\n",
       "      <td>calleemilioportesgil</td>\n",
       "      <td>tamaulipas</td>\n",
       "      <td>NaN</td>\n",
       "      <td>NaN</td>\n",
       "      <td>No_Alcohol_Served</td>\n",
       "      <td>NaN</td>\n",
       "      <td>low</td>\n",
       "      <td>closed</td>\n",
       "      <td>NaN</td>\n",
       "      <td>East</td>\n",
       "      <td>546.0</td>\n",
       "    </tr>\n",
       "    <tr>\n",
       "      <th>4</th>\n",
       "      <td>132613</td>\n",
       "      <td>carnitas_mata</td>\n",
       "      <td>lic.Emilioportesgil</td>\n",
       "      <td>Tamaulipas</td>\n",
       "      <td>Mexico</td>\n",
       "      <td>NaN</td>\n",
       "      <td>No_Alcohol_Served</td>\n",
       "      <td>permitted</td>\n",
       "      <td>medium</td>\n",
       "      <td>closed</td>\n",
       "      <td>NaN</td>\n",
       "      <td>East</td>\n",
       "      <td>697.0</td>\n",
       "    </tr>\n",
       "  </tbody>\n",
       "</table>\n",
       "</div>"
      ],
      "text/plain": [
       "   placeID                        name                            address  \\\n",
       "0   134999              KikuCuernavaca                         Revolucion   \n",
       "1   132825               puestodetacos  esquinasantosdegolladoyleonguzman   \n",
       "2   135106      ElRincondeSanFrancisco                     Universidad169   \n",
       "3   132667  littlepizzaEmilioPortesGil               calleemilioportesgil   \n",
       "4   132613               carnitas_mata                lic.Emilioportesgil   \n",
       "\n",
       "           state country    zip            alcohol smoking_area   price  \\\n",
       "0        Morelos  Mexico    NaN  No_Alcohol_Served          NaN  medium   \n",
       "1         s.l.p.  mexico  78280  No_Alcohol_Served          NaN     low   \n",
       "2  SanLuisPotosi  Mexico  78000          Wine-Beer    onlyatbar  medium   \n",
       "3     tamaulipas     NaN    NaN  No_Alcohol_Served          NaN     low   \n",
       "4     Tamaulipas  Mexico    NaN  No_Alcohol_Served    permitted  medium   \n",
       "\n",
       "     area other_services Region  Average_dine_in_per_month  \n",
       "0  closed            NaN   West                      677.0  \n",
       "1    open            NaN   West                        NaN  \n",
       "2    open            NaN   East                        NaN  \n",
       "3  closed            NaN   East                      546.0  \n",
       "4  closed            NaN   East                      697.0  "
      ]
     },
     "execution_count": 17,
     "metadata": {},
     "output_type": "execute_result"
    }
   ],
   "source": [
    "restaurant_details.head()"
   ]
  },
  {
   "cell_type": "code",
   "execution_count": 18,
   "id": "0520e7e5",
   "metadata": {},
   "outputs": [
    {
     "data": {
      "text/plain": [
       "SLP              50\n",
       "Morelos          19\n",
       "SanLuisPotosi    14\n",
       "tamaulipas        9\n",
       "Tamaulipas        7\n",
       "sanluispotosi     4\n",
       "slp               2\n",
       "mexico            2\n",
       "S.L.P.            2\n",
       "s.l.p.            1\n",
       "morelos           1\n",
       "sanluispotos      1\n",
       "Name: state, dtype: int64"
      ]
     },
     "execution_count": 18,
     "metadata": {},
     "output_type": "execute_result"
    }
   ],
   "source": [
    "restaurant_details[\"state\"].value_counts()"
   ]
  },
  {
   "cell_type": "code",
   "execution_count": 19,
   "id": "9a299aa5",
   "metadata": {},
   "outputs": [],
   "source": [
    "restaurant_details[\"state\"] = [\"Tamaulipas\" if x in [\"tamaulipas\", \"Tamaulipas\"] else x for x in restaurant_details[\"state\"]]\n",
    "restaurant_details[\"state\"] = [\"Morelos\" if x in [\"Morelos\", \"morelos\"] else x for x in restaurant_details[\"state\"]]\n",
    "restaurant_details[\"state\"] = [\"San Luis Potosi \" if x in [\"SanLuisPotosi\", \"sanluispotosi\", \"slp\",\"S.L.P.\",\"s.l.p.\",\"sanluispotos\",\"SLP\"] else x for x in restaurant_details[\"state\"]]\n",
    "restaurant_details[\"state\"] = [\"Mexico\" if x in [\"mexico\", \"Mexico\"] else x for x in restaurant_details[\"state\"]]"
   ]
  },
  {
   "cell_type": "code",
   "execution_count": 20,
   "id": "9232201c",
   "metadata": {},
   "outputs": [
    {
     "data": {
      "text/plain": [
       "San Luis Potosi     74\n",
       "Morelos             20\n",
       "Tamaulipas          16\n",
       "Mexico               2\n",
       "Name: state, dtype: int64"
      ]
     },
     "execution_count": 20,
     "metadata": {},
     "output_type": "execute_result"
    }
   ],
   "source": [
    "restaurant_details[\"state\"].value_counts()"
   ]
  },
  {
   "cell_type": "code",
   "execution_count": 21,
   "id": "fb95990f",
   "metadata": {},
   "outputs": [
    {
     "data": {
      "text/plain": [
       "Mexico    89\n",
       "mexico    13\n",
       "?          3\n",
       "Name: country, dtype: int64"
      ]
     },
     "execution_count": 21,
     "metadata": {},
     "output_type": "execute_result"
    }
   ],
   "source": [
    "restaurant_details[\"country\"].value_counts()"
   ]
  },
  {
   "cell_type": "code",
   "execution_count": 22,
   "id": "d9c26c49",
   "metadata": {},
   "outputs": [],
   "source": [
    "restaurant_details[\"country\"] = [\"Mexico\" if x in [\"mexico\", \"Mexico\"] else x for x in restaurant_details[\"country\"]]"
   ]
  },
  {
   "cell_type": "code",
   "execution_count": 23,
   "id": "83076554",
   "metadata": {},
   "outputs": [
    {
     "data": {
      "text/plain": [
       "Mexico    102\n",
       "?           3\n",
       "Name: country, dtype: int64"
      ]
     },
     "execution_count": 23,
     "metadata": {},
     "output_type": "execute_result"
    }
   ],
   "source": [
    "restaurant_details[\"country\"].value_counts()\n"
   ]
  },
  {
   "cell_type": "code",
   "execution_count": 24,
   "id": "60270d29",
   "metadata": {},
   "outputs": [
    {
     "name": "stdout",
     "output_type": "stream",
     "text": [
      "Before dropping rows with missing values: (130, 13)\n",
      "After dropping rows with missing values: (103, 13)\n"
     ]
    }
   ],
   "source": [
    "print(\"Before dropping rows with missing values:\", restaurant_details.shape)\n",
    "missing_values=['?','','NA']\n",
    "for i in missing_values:\n",
    "    restaurant_details.replace(i,np.NaN,inplace=True)\n",
    "restaurant_details.dropna(axis=0,inplace=True,thresh=10)\n",
    "print(\"After dropping rows with missing values:\",restaurant_details.shape)"
   ]
  },
  {
   "cell_type": "code",
   "execution_count": 25,
   "id": "4e1917ae",
   "metadata": {},
   "outputs": [],
   "source": [
    "#reset index\n",
    "restaurant_details.reset_index(inplace=True, drop=True)"
   ]
  },
  {
   "cell_type": "markdown",
   "id": "ad1c4991",
   "metadata": {},
   "source": [
    "### deleting empty value rows from consumer data"
   ]
  },
  {
   "cell_type": "code",
   "execution_count": 26,
   "id": "0c55dc14",
   "metadata": {},
   "outputs": [],
   "source": [
    "### deleting columns with 45% empty values\n",
    "restaurant_details.dropna(axis=1,inplace=True, thresh=50*1.1)\n",
    "restaurant_details.to_csv(\"D:/Data Analysis/Data/rd_modified1.csv\")"
   ]
  },
  {
   "cell_type": "code",
   "execution_count": 27,
   "id": "622e8c4b",
   "metadata": {},
   "outputs": [
    {
     "data": {
      "text/plain": [
       "(103, 11)"
      ]
     },
     "execution_count": 27,
     "metadata": {},
     "output_type": "execute_result"
    }
   ],
   "source": [
    "restaurant_details.shape"
   ]
  },
  {
   "cell_type": "code",
   "execution_count": 28,
   "id": "00c74eec",
   "metadata": {},
   "outputs": [
    {
     "name": "stdout",
     "output_type": "stream",
     "text": [
      "['placeID' 'name' 'address' 'state' 'country' 'zip' 'alcohol' 'price'\n",
      " 'area' 'Region' 'Average_dine_in_per_month']\n"
     ]
    }
   ],
   "source": [
    "print(restaurant_details.columns.values)"
   ]
  },
  {
   "cell_type": "code",
   "execution_count": 29,
   "id": "7d57d480",
   "metadata": {},
   "outputs": [
    {
     "name": "stdout",
     "output_type": "stream",
     "text": [
      "Before dropping rows with missing values: (138, 14)\n",
      "After dropping rows with missing values: (134, 14)\n"
     ]
    }
   ],
   "source": [
    "print(\"Before dropping rows with missing values:\", consumer_survey.shape)\n",
    "consumer_survey.replace('?',np.NaN,inplace=True)\n",
    "consumer_survey.dropna(axis=0,inplace=True,thresh=13)\n",
    "print(\"After dropping rows with missing values:\",consumer_survey.shape)"
   ]
  },
  {
   "cell_type": "markdown",
   "id": "f2156e2d",
   "metadata": {},
   "source": [
    "## Impute Data"
   ]
  },
  {
   "cell_type": "code",
   "execution_count": 30,
   "id": "f178366d",
   "metadata": {},
   "outputs": [],
   "source": [
    "from sklearn.impute import SimpleImputer"
   ]
  },
  {
   "cell_type": "code",
   "execution_count": 31,
   "id": "42309f60",
   "metadata": {},
   "outputs": [
    {
     "data": {
      "text/plain": [
       "[34, 39, 74, 81]"
      ]
     },
     "execution_count": 31,
     "metadata": {},
     "output_type": "execute_result"
    }
   ],
   "source": [
    "#imputing data with constant value\n",
    "df= restaurant_details.loc[:,[\"country\"]]\n",
    "df[df.isna().any(axis=1)].index.tolist()"
   ]
  },
  {
   "cell_type": "code",
   "execution_count": 32,
   "id": "fbe4381b",
   "metadata": {},
   "outputs": [
    {
     "data": {
      "text/html": [
       "<div>\n",
       "<style scoped>\n",
       "    .dataframe tbody tr th:only-of-type {\n",
       "        vertical-align: middle;\n",
       "    }\n",
       "\n",
       "    .dataframe tbody tr th {\n",
       "        vertical-align: top;\n",
       "    }\n",
       "\n",
       "    .dataframe thead th {\n",
       "        text-align: right;\n",
       "    }\n",
       "</style>\n",
       "<table border=\"1\" class=\"dataframe\">\n",
       "  <thead>\n",
       "    <tr style=\"text-align: right;\">\n",
       "      <th></th>\n",
       "      <th>country</th>\n",
       "    </tr>\n",
       "  </thead>\n",
       "  <tbody>\n",
       "    <tr>\n",
       "      <th>34</th>\n",
       "      <td>NaN</td>\n",
       "    </tr>\n",
       "    <tr>\n",
       "      <th>39</th>\n",
       "      <td>NaN</td>\n",
       "    </tr>\n",
       "    <tr>\n",
       "      <th>74</th>\n",
       "      <td>NaN</td>\n",
       "    </tr>\n",
       "    <tr>\n",
       "      <th>81</th>\n",
       "      <td>NaN</td>\n",
       "    </tr>\n",
       "  </tbody>\n",
       "</table>\n",
       "</div>"
      ],
      "text/plain": [
       "   country\n",
       "34     NaN\n",
       "39     NaN\n",
       "74     NaN\n",
       "81     NaN"
      ]
     },
     "execution_count": 32,
     "metadata": {},
     "output_type": "execute_result"
    }
   ],
   "source": [
    "restaurant_details.loc[[34, 39, 74, 81],[\"country\"]]"
   ]
  },
  {
   "cell_type": "code",
   "execution_count": 33,
   "id": "1e9333e0",
   "metadata": {},
   "outputs": [
    {
     "data": {
      "text/html": [
       "<div>\n",
       "<style scoped>\n",
       "    .dataframe tbody tr th:only-of-type {\n",
       "        vertical-align: middle;\n",
       "    }\n",
       "\n",
       "    .dataframe tbody tr th {\n",
       "        vertical-align: top;\n",
       "    }\n",
       "\n",
       "    .dataframe thead th {\n",
       "        text-align: right;\n",
       "    }\n",
       "</style>\n",
       "<table border=\"1\" class=\"dataframe\">\n",
       "  <thead>\n",
       "    <tr style=\"text-align: right;\">\n",
       "      <th></th>\n",
       "      <th>country</th>\n",
       "    </tr>\n",
       "  </thead>\n",
       "  <tbody>\n",
       "    <tr>\n",
       "      <th>34</th>\n",
       "      <td>Mexico</td>\n",
       "    </tr>\n",
       "    <tr>\n",
       "      <th>39</th>\n",
       "      <td>Mexico</td>\n",
       "    </tr>\n",
       "    <tr>\n",
       "      <th>74</th>\n",
       "      <td>Mexico</td>\n",
       "    </tr>\n",
       "    <tr>\n",
       "      <th>81</th>\n",
       "      <td>Mexico</td>\n",
       "    </tr>\n",
       "  </tbody>\n",
       "</table>\n",
       "</div>"
      ],
      "text/plain": [
       "   country\n",
       "34  Mexico\n",
       "39  Mexico\n",
       "74  Mexico\n",
       "81  Mexico"
      ]
     },
     "execution_count": 33,
     "metadata": {},
     "output_type": "execute_result"
    }
   ],
   "source": [
    "country_array=np.array(restaurant_details[\"country\"])\n",
    "imputer =SimpleImputer(strategy='constant',fill_value=\"Mexico\")\n",
    "restaurant_details[\"country\"]=imputer.fit_transform(country_array.reshape(-1,1))\n",
    "restaurant_details.loc[[34, 39, 74, 81],[\"country\"]]"
   ]
  },
  {
   "cell_type": "code",
   "execution_count": 34,
   "id": "6d80ec7c",
   "metadata": {},
   "outputs": [
    {
     "data": {
      "text/plain": [
       "[30, 38, 122]"
      ]
     },
     "execution_count": 34,
     "metadata": {},
     "output_type": "execute_result"
    }
   ],
   "source": [
    "# Imputing with the mode or most frequent value\n",
    "df= consumer_survey.loc[:,[\"transport\"]]\n",
    "df[df.isna().any(axis=1)].index.tolist()"
   ]
  },
  {
   "cell_type": "code",
   "execution_count": 35,
   "id": "bc8cdd26",
   "metadata": {},
   "outputs": [
    {
     "data": {
      "text/html": [
       "<div>\n",
       "<style scoped>\n",
       "    .dataframe tbody tr th:only-of-type {\n",
       "        vertical-align: middle;\n",
       "    }\n",
       "\n",
       "    .dataframe tbody tr th {\n",
       "        vertical-align: top;\n",
       "    }\n",
       "\n",
       "    .dataframe thead th {\n",
       "        text-align: right;\n",
       "    }\n",
       "</style>\n",
       "<table border=\"1\" class=\"dataframe\">\n",
       "  <thead>\n",
       "    <tr style=\"text-align: right;\">\n",
       "      <th></th>\n",
       "      <th>transport</th>\n",
       "    </tr>\n",
       "  </thead>\n",
       "  <tbody>\n",
       "    <tr>\n",
       "      <th>30</th>\n",
       "      <td>NaN</td>\n",
       "    </tr>\n",
       "    <tr>\n",
       "      <th>38</th>\n",
       "      <td>NaN</td>\n",
       "    </tr>\n",
       "    <tr>\n",
       "      <th>122</th>\n",
       "      <td>NaN</td>\n",
       "    </tr>\n",
       "  </tbody>\n",
       "</table>\n",
       "</div>"
      ],
      "text/plain": [
       "    transport\n",
       "30        NaN\n",
       "38        NaN\n",
       "122       NaN"
      ]
     },
     "execution_count": 35,
     "metadata": {},
     "output_type": "execute_result"
    }
   ],
   "source": [
    "consumer_survey.loc[[30, 38, 122],[\"transport\"]]"
   ]
  },
  {
   "cell_type": "code",
   "execution_count": 36,
   "id": "a9e6ed0c",
   "metadata": {},
   "outputs": [
    {
     "data": {
      "text/plain": [
       "public       82\n",
       "car owner    35\n",
       "on foot      14\n",
       "Name: transport, dtype: int64"
      ]
     },
     "execution_count": 36,
     "metadata": {},
     "output_type": "execute_result"
    }
   ],
   "source": [
    "consumer_survey[\"transport\"].value_counts()"
   ]
  },
  {
   "cell_type": "code",
   "execution_count": 37,
   "id": "ffa96f4d",
   "metadata": {},
   "outputs": [
    {
     "data": {
      "text/plain": [
       "'public'"
      ]
     },
     "execution_count": 37,
     "metadata": {},
     "output_type": "execute_result"
    }
   ],
   "source": [
    "##finding mode\n",
    "consumer_survey[\"transport\"].mode()[0]"
   ]
  },
  {
   "cell_type": "code",
   "execution_count": 38,
   "id": "a8794d95",
   "metadata": {},
   "outputs": [
    {
     "data": {
      "text/html": [
       "<div>\n",
       "<style scoped>\n",
       "    .dataframe tbody tr th:only-of-type {\n",
       "        vertical-align: middle;\n",
       "    }\n",
       "\n",
       "    .dataframe tbody tr th {\n",
       "        vertical-align: top;\n",
       "    }\n",
       "\n",
       "    .dataframe thead th {\n",
       "        text-align: right;\n",
       "    }\n",
       "</style>\n",
       "<table border=\"1\" class=\"dataframe\">\n",
       "  <thead>\n",
       "    <tr style=\"text-align: right;\">\n",
       "      <th></th>\n",
       "      <th>transport</th>\n",
       "    </tr>\n",
       "  </thead>\n",
       "  <tbody>\n",
       "    <tr>\n",
       "      <th>30</th>\n",
       "      <td>public</td>\n",
       "    </tr>\n",
       "    <tr>\n",
       "      <th>38</th>\n",
       "      <td>public</td>\n",
       "    </tr>\n",
       "    <tr>\n",
       "      <th>122</th>\n",
       "      <td>public</td>\n",
       "    </tr>\n",
       "  </tbody>\n",
       "</table>\n",
       "</div>"
      ],
      "text/plain": [
       "    transport\n",
       "30     public\n",
       "38     public\n",
       "122    public"
      ]
     },
     "execution_count": 38,
     "metadata": {},
     "output_type": "execute_result"
    }
   ],
   "source": [
    "transport_array=np.array(consumer_survey[\"transport\"])\n",
    "imputer=SimpleImputer(strategy=\"most_frequent\")\n",
    "consumer_survey[\"transport\"] = imputer.fit_transform(transport_array.reshape(-1,1))\n",
    "consumer_survey.loc[[30, 38, 122],['transport']]"
   ]
  },
  {
   "cell_type": "markdown",
   "id": "f8ac5134",
   "metadata": {},
   "source": [
    "### Impute with mean value"
   ]
  },
  {
   "cell_type": "code",
   "execution_count": 39,
   "id": "6e186bda",
   "metadata": {},
   "outputs": [],
   "source": [
    "restaurant_details.Average_dine_in_per_month= pd.to_numeric(restaurant_details.Average_dine_in_per_month)"
   ]
  },
  {
   "cell_type": "code",
   "execution_count": 40,
   "id": "4925d5ed",
   "metadata": {},
   "outputs": [
    {
     "data": {
      "text/plain": [
       "[1, 2, 5, 41]"
      ]
     },
     "execution_count": 40,
     "metadata": {},
     "output_type": "execute_result"
    }
   ],
   "source": [
    "# Finding rows or indexes which have NaN values as average dinining per month\n",
    "df= restaurant_details.loc[:,[\"Average_dine_in_per_month\"]]\n",
    "df.loc[df.isna().any(axis=1)].index.tolist()"
   ]
  },
  {
   "cell_type": "code",
   "execution_count": 41,
   "id": "a0aabfb9",
   "metadata": {},
   "outputs": [
    {
     "data": {
      "text/html": [
       "<div>\n",
       "<style scoped>\n",
       "    .dataframe tbody tr th:only-of-type {\n",
       "        vertical-align: middle;\n",
       "    }\n",
       "\n",
       "    .dataframe tbody tr th {\n",
       "        vertical-align: top;\n",
       "    }\n",
       "\n",
       "    .dataframe thead th {\n",
       "        text-align: right;\n",
       "    }\n",
       "</style>\n",
       "<table border=\"1\" class=\"dataframe\">\n",
       "  <thead>\n",
       "    <tr style=\"text-align: right;\">\n",
       "      <th></th>\n",
       "      <th>Average_dine_in_per_month</th>\n",
       "      <th>state</th>\n",
       "    </tr>\n",
       "  </thead>\n",
       "  <tbody>\n",
       "    <tr>\n",
       "      <th>1</th>\n",
       "      <td>NaN</td>\n",
       "      <td>San Luis Potosi</td>\n",
       "    </tr>\n",
       "    <tr>\n",
       "      <th>2</th>\n",
       "      <td>NaN</td>\n",
       "      <td>San Luis Potosi</td>\n",
       "    </tr>\n",
       "    <tr>\n",
       "      <th>5</th>\n",
       "      <td>NaN</td>\n",
       "      <td>Tamaulipas</td>\n",
       "    </tr>\n",
       "    <tr>\n",
       "      <th>41</th>\n",
       "      <td>NaN</td>\n",
       "      <td>Morelos</td>\n",
       "    </tr>\n",
       "  </tbody>\n",
       "</table>\n",
       "</div>"
      ],
      "text/plain": [
       "    Average_dine_in_per_month             state\n",
       "1                         NaN  San Luis Potosi \n",
       "2                         NaN  San Luis Potosi \n",
       "5                         NaN        Tamaulipas\n",
       "41                        NaN           Morelos"
      ]
     },
     "execution_count": 41,
     "metadata": {},
     "output_type": "execute_result"
    }
   ],
   "source": [
    "#cross verifying our result\n",
    "restaurant_details.loc[[1, 2, 5, 41],[\"Average_dine_in_per_month\",\"state\"]]"
   ]
  },
  {
   "cell_type": "code",
   "execution_count": 42,
   "id": "881b7374",
   "metadata": {},
   "outputs": [
    {
     "data": {
      "text/html": [
       "<div>\n",
       "<style scoped>\n",
       "    .dataframe tbody tr th:only-of-type {\n",
       "        vertical-align: middle;\n",
       "    }\n",
       "\n",
       "    .dataframe tbody tr th {\n",
       "        vertical-align: top;\n",
       "    }\n",
       "\n",
       "    .dataframe thead th {\n",
       "        text-align: right;\n",
       "    }\n",
       "</style>\n",
       "<table border=\"1\" class=\"dataframe\">\n",
       "  <thead>\n",
       "    <tr style=\"text-align: right;\">\n",
       "      <th></th>\n",
       "      <th>Average_dine_in_per_month_mean_imputed</th>\n",
       "      <th>state</th>\n",
       "    </tr>\n",
       "  </thead>\n",
       "  <tbody>\n",
       "    <tr>\n",
       "      <th>1</th>\n",
       "      <td>639.010101</td>\n",
       "      <td>San Luis Potosi</td>\n",
       "    </tr>\n",
       "    <tr>\n",
       "      <th>2</th>\n",
       "      <td>639.010101</td>\n",
       "      <td>San Luis Potosi</td>\n",
       "    </tr>\n",
       "    <tr>\n",
       "      <th>5</th>\n",
       "      <td>639.010101</td>\n",
       "      <td>Tamaulipas</td>\n",
       "    </tr>\n",
       "    <tr>\n",
       "      <th>41</th>\n",
       "      <td>639.010101</td>\n",
       "      <td>Morelos</td>\n",
       "    </tr>\n",
       "  </tbody>\n",
       "</table>\n",
       "</div>"
      ],
      "text/plain": [
       "    Average_dine_in_per_month_mean_imputed             state\n",
       "1                               639.010101  San Luis Potosi \n",
       "2                               639.010101  San Luis Potosi \n",
       "5                               639.010101        Tamaulipas\n",
       "41                              639.010101           Morelos"
      ]
     },
     "execution_count": 42,
     "metadata": {},
     "output_type": "execute_result"
    }
   ],
   "source": [
    "average_dine_in_per_month_array=np.array(restaurant_details[\"Average_dine_in_per_month\"])\n",
    "imputer=SimpleImputer(strategy=\"mean\")\n",
    "restaurant_details[[\"Average_dine_in_per_month_mean_imputed\"]]=imputer.fit_transform(average_dine_in_per_month_array.reshape(-1,1))\n",
    "restaurant_details.loc[[1, 2, 5, 41],[\"Average_dine_in_per_month_mean_imputed\",\"state\"]]"
   ]
  },
  {
   "cell_type": "code",
   "execution_count": 43,
   "id": "3cf13167",
   "metadata": {},
   "outputs": [
    {
     "data": {
      "text/html": [
       "<div>\n",
       "<style scoped>\n",
       "    .dataframe tbody tr th:only-of-type {\n",
       "        vertical-align: middle;\n",
       "    }\n",
       "\n",
       "    .dataframe tbody tr th {\n",
       "        vertical-align: top;\n",
       "    }\n",
       "\n",
       "    .dataframe thead th {\n",
       "        text-align: right;\n",
       "    }\n",
       "</style>\n",
       "<table border=\"1\" class=\"dataframe\">\n",
       "  <thead>\n",
       "    <tr style=\"text-align: right;\">\n",
       "      <th></th>\n",
       "      <th>Average_dine_in_per_month</th>\n",
       "    </tr>\n",
       "    <tr>\n",
       "      <th>state</th>\n",
       "      <th></th>\n",
       "    </tr>\n",
       "  </thead>\n",
       "  <tbody>\n",
       "    <tr>\n",
       "      <th>Mexico</th>\n",
       "      <td>859.000000</td>\n",
       "    </tr>\n",
       "    <tr>\n",
       "      <th>Morelos</th>\n",
       "      <td>636.736842</td>\n",
       "    </tr>\n",
       "    <tr>\n",
       "      <th>San Luis Potosi</th>\n",
       "      <td>624.847222</td>\n",
       "    </tr>\n",
       "    <tr>\n",
       "      <th>Tamaulipas</th>\n",
       "      <td>759.428571</td>\n",
       "    </tr>\n",
       "  </tbody>\n",
       "</table>\n",
       "</div>"
      ],
      "text/plain": [
       "                  Average_dine_in_per_month\n",
       "state                                      \n",
       "Mexico                           859.000000\n",
       "Morelos                          636.736842\n",
       "San Luis Potosi                  624.847222\n",
       "Tamaulipas                       759.428571"
      ]
     },
     "execution_count": 43,
     "metadata": {},
     "output_type": "execute_result"
    }
   ],
   "source": [
    "##Another way, imputing the NaN values with mean of each state\n",
    "restaurant_details[[\"Average_dine_in_per_month\",\"state\"]].groupby('state').mean()"
   ]
  },
  {
   "cell_type": "code",
   "execution_count": 44,
   "id": "43fc1a35",
   "metadata": {},
   "outputs": [
    {
     "data": {
      "text/html": [
       "<div>\n",
       "<style scoped>\n",
       "    .dataframe tbody tr th:only-of-type {\n",
       "        vertical-align: middle;\n",
       "    }\n",
       "\n",
       "    .dataframe tbody tr th {\n",
       "        vertical-align: top;\n",
       "    }\n",
       "\n",
       "    .dataframe thead th {\n",
       "        text-align: right;\n",
       "    }\n",
       "</style>\n",
       "<table border=\"1\" class=\"dataframe\">\n",
       "  <thead>\n",
       "    <tr style=\"text-align: right;\">\n",
       "      <th></th>\n",
       "      <th>Average_dine_in_per_month</th>\n",
       "      <th>state</th>\n",
       "    </tr>\n",
       "  </thead>\n",
       "  <tbody>\n",
       "    <tr>\n",
       "      <th>1</th>\n",
       "      <td>624.847222</td>\n",
       "      <td>San Luis Potosi</td>\n",
       "    </tr>\n",
       "    <tr>\n",
       "      <th>2</th>\n",
       "      <td>624.847222</td>\n",
       "      <td>San Luis Potosi</td>\n",
       "    </tr>\n",
       "    <tr>\n",
       "      <th>5</th>\n",
       "      <td>759.428571</td>\n",
       "      <td>Tamaulipas</td>\n",
       "    </tr>\n",
       "    <tr>\n",
       "      <th>41</th>\n",
       "      <td>636.736842</td>\n",
       "      <td>Morelos</td>\n",
       "    </tr>\n",
       "  </tbody>\n",
       "</table>\n",
       "</div>"
      ],
      "text/plain": [
       "    Average_dine_in_per_month             state\n",
       "1                  624.847222  San Luis Potosi \n",
       "2                  624.847222  San Luis Potosi \n",
       "5                  759.428571        Tamaulipas\n",
       "41                 636.736842           Morelos"
      ]
     },
     "execution_count": 44,
     "metadata": {},
     "output_type": "execute_result"
    }
   ],
   "source": [
    "grouped_restaurant_details = restaurant_details[[\"Average_dine_in_per_month\",\"state\"]].groupby('state')\n",
    "mean_updated=grouped_restaurant_details.transform(lambda x:x.fillna(x.mean()))\n",
    "mean_updated['state']=restaurant_details['state']\n",
    "mean_updated.loc[[1, 2, 5, 41],:]"
   ]
  },
  {
   "cell_type": "markdown",
   "id": "397cb76d",
   "metadata": {},
   "source": [
    "##  Merge Data"
   ]
  },
  {
   "cell_type": "code",
   "execution_count": 45,
   "id": "87added8",
   "metadata": {},
   "outputs": [
    {
     "name": "stdout",
     "output_type": "stream",
     "text": [
      "['placeID' 'name' 'address' 'state' 'country' 'zip' 'alcohol' 'price'\n",
      " 'area' 'Region' 'Average_dine_in_per_month'\n",
      " 'Average_dine_in_per_month_mean_imputed']\n"
     ]
    }
   ],
   "source": [
    "print(restaurant_details.columns.values)"
   ]
  },
  {
   "cell_type": "code",
   "execution_count": 46,
   "id": "b61c442b",
   "metadata": {},
   "outputs": [
    {
     "name": "stdout",
     "output_type": "stream",
     "text": [
      "['placeID' 'Rcuisine']\n"
     ]
    }
   ],
   "source": [
    "print(cuisine.columns.values)"
   ]
  },
  {
   "cell_type": "code",
   "execution_count": 47,
   "id": "33b373ab",
   "metadata": {},
   "outputs": [
    {
     "name": "stdout",
     "output_type": "stream",
     "text": [
      "['placeID' 'name' 'address' 'state' 'country' 'zip' 'alcohol' 'price'\n",
      " 'area' 'Region' 'Average_dine_in_per_month'\n",
      " 'Average_dine_in_per_month_mean_imputed' 'Rcuisine']\n"
     ]
    }
   ],
   "source": [
    "# As we can see the common attribute is placeID, merging the tables on placeID\n",
    "restaurant_details_cuisine= pd.merge(restaurant_details,cuisine.set_index('placeID'), left_on='placeID', right_index=True,how=\"inner\")\n",
    "print(restaurant_details_cuisine.columns.values)    \n",
    "    "
   ]
  },
  {
   "cell_type": "code",
   "execution_count": 48,
   "id": "a64e3ee9",
   "metadata": {},
   "outputs": [
    {
     "name": "stdout",
     "output_type": "stream",
     "text": [
      "(103, 12)\n"
     ]
    }
   ],
   "source": [
    "print(restaurant_details.shape)"
   ]
  },
  {
   "cell_type": "code",
   "execution_count": 49,
   "id": "7204e3f6",
   "metadata": {},
   "outputs": [
    {
     "name": "stdout",
     "output_type": "stream",
     "text": [
      "(916, 2)\n"
     ]
    }
   ],
   "source": [
    "print(cuisine.shape)"
   ]
  },
  {
   "cell_type": "code",
   "execution_count": 50,
   "id": "38ebf1ac",
   "metadata": {},
   "outputs": [
    {
     "name": "stdout",
     "output_type": "stream",
     "text": [
      "(92, 13)\n"
     ]
    }
   ],
   "source": [
    "print(restaurant_details_cuisine.shape)"
   ]
  },
  {
   "cell_type": "code",
   "execution_count": 51,
   "id": "5cfa6e3d",
   "metadata": {},
   "outputs": [
    {
     "name": "stdout",
     "output_type": "stream",
     "text": [
      "['placeID' 'name' 'address' 'state' 'country' 'zip' 'alcohol' 'price'\n",
      " 'area' 'Region' 'Average_dine_in_per_month'\n",
      " 'Average_dine_in_per_month_mean_imputed' 'Rcuisine' 'parking_lot']\n"
     ]
    }
   ],
   "source": [
    "# Merging the restaurant_details_cuisine table with restaurant_parking on 'placeID'\n",
    "restaurant_details_cuisine_parking= pd.merge(restaurant_details_cuisine,restaurant_parking.set_index('placeID'), left_on='placeID', right_index=True,how=\"inner\")\n",
    "print(restaurant_details_cuisine_parking.columns.values)    \n",
    "    "
   ]
  },
  {
   "cell_type": "code",
   "execution_count": 52,
   "id": "e0ea2720",
   "metadata": {},
   "outputs": [
    {
     "data": {
      "text/html": [
       "<div>\n",
       "<style scoped>\n",
       "    .dataframe tbody tr th:only-of-type {\n",
       "        vertical-align: middle;\n",
       "    }\n",
       "\n",
       "    .dataframe tbody tr th {\n",
       "        vertical-align: top;\n",
       "    }\n",
       "\n",
       "    .dataframe thead th {\n",
       "        text-align: right;\n",
       "    }\n",
       "</style>\n",
       "<table border=\"1\" class=\"dataframe\">\n",
       "  <thead>\n",
       "    <tr style=\"text-align: right;\">\n",
       "      <th></th>\n",
       "      <th>placeID</th>\n",
       "      <th>name</th>\n",
       "      <th>Rcuisine</th>\n",
       "      <th>parking_lot</th>\n",
       "    </tr>\n",
       "  </thead>\n",
       "  <tbody>\n",
       "    <tr>\n",
       "      <th>0</th>\n",
       "      <td>134999</td>\n",
       "      <td>KikuCuernavaca</td>\n",
       "      <td>Japanese</td>\n",
       "      <td>none</td>\n",
       "    </tr>\n",
       "    <tr>\n",
       "      <th>1</th>\n",
       "      <td>132825</td>\n",
       "      <td>puestodetacos</td>\n",
       "      <td>Mexican</td>\n",
       "      <td>none</td>\n",
       "    </tr>\n",
       "    <tr>\n",
       "      <th>2</th>\n",
       "      <td>135106</td>\n",
       "      <td>ElRincondeSanFrancisco</td>\n",
       "      <td>Mexican</td>\n",
       "      <td>none</td>\n",
       "    </tr>\n",
       "    <tr>\n",
       "      <th>3</th>\n",
       "      <td>132613</td>\n",
       "      <td>carnitas_mata</td>\n",
       "      <td>Mexican</td>\n",
       "      <td>yes</td>\n",
       "    </tr>\n",
       "    <tr>\n",
       "      <th>5</th>\n",
       "      <td>132732</td>\n",
       "      <td>TaqueriaELamigo</td>\n",
       "      <td>Mexican</td>\n",
       "      <td>none</td>\n",
       "    </tr>\n",
       "  </tbody>\n",
       "</table>\n",
       "</div>"
      ],
      "text/plain": [
       "   placeID                    name  Rcuisine parking_lot\n",
       "0   134999          KikuCuernavaca  Japanese        none\n",
       "1   132825           puestodetacos   Mexican        none\n",
       "2   135106  ElRincondeSanFrancisco   Mexican        none\n",
       "3   132613           carnitas_mata   Mexican         yes\n",
       "5   132732         TaqueriaELamigo   Mexican        none"
      ]
     },
     "execution_count": 52,
     "metadata": {},
     "output_type": "execute_result"
    }
   ],
   "source": [
    "restaurant_details_cuisine_parking.loc[:,['placeID','name','Rcuisine', 'parking_lot']].head()"
   ]
  },
  {
   "cell_type": "code",
   "execution_count": 53,
   "id": "29c88007",
   "metadata": {},
   "outputs": [
    {
     "data": {
      "text/plain": [
       "Mexican             18\n",
       "Bar                 12\n",
       "Cafeteria            8\n",
       "Fast_Food            7\n",
       "Bar_Pub_Brewery      6\n",
       "Seafood              5\n",
       "Pizzeria             5\n",
       "Japanese             4\n",
       "Burgers              4\n",
       "International        4\n",
       "American             4\n",
       "Chinese              3\n",
       "Family               2\n",
       "Italian              2\n",
       "Contemporary         2\n",
       "Game                 1\n",
       "Cafe-Coffee_Shop     1\n",
       "Breakfast-Brunch     1\n",
       "Vietnamese           1\n",
       "Regional             1\n",
       "Bakery               1\n",
       "Name: Rcuisine, dtype: int64"
      ]
     },
     "execution_count": 53,
     "metadata": {},
     "output_type": "execute_result"
    }
   ],
   "source": [
    "#listig various cuisine offered and its frequency around restaurants\n",
    "restaurant_details_cuisine_parking['Rcuisine'].value_counts()"
   ]
  },
  {
   "cell_type": "code",
   "execution_count": 54,
   "id": "89864f2a",
   "metadata": {},
   "outputs": [
    {
     "data": {
      "text/plain": [
       "none             39\n",
       "yes              38\n",
       "public           14\n",
       "valet parking     1\n",
       "Name: parking_lot, dtype: int64"
      ]
     },
     "execution_count": 54,
     "metadata": {},
     "output_type": "execute_result"
    }
   ],
   "source": [
    "restaurant_details_cuisine_parking['parking_lot'].value_counts()"
   ]
  },
  {
   "cell_type": "code",
   "execution_count": 55,
   "id": "b2d750ac",
   "metadata": {},
   "outputs": [
    {
     "data": {
      "text/html": [
       "<div>\n",
       "<style scoped>\n",
       "    .dataframe tbody tr th:only-of-type {\n",
       "        vertical-align: middle;\n",
       "    }\n",
       "\n",
       "    .dataframe tbody tr th {\n",
       "        vertical-align: top;\n",
       "    }\n",
       "\n",
       "    .dataframe thead th {\n",
       "        text-align: right;\n",
       "    }\n",
       "</style>\n",
       "<table border=\"1\" class=\"dataframe\">\n",
       "  <thead>\n",
       "    <tr style=\"text-align: right;\">\n",
       "      <th></th>\n",
       "      <th>name</th>\n",
       "      <th>Rcuisine</th>\n",
       "      <th>parking_lot</th>\n",
       "    </tr>\n",
       "  </thead>\n",
       "  <tbody>\n",
       "    <tr>\n",
       "      <th>36</th>\n",
       "      <td>HamburguesasLaperica</td>\n",
       "      <td>Mexican</td>\n",
       "      <td>public</td>\n",
       "    </tr>\n",
       "    <tr>\n",
       "      <th>54</th>\n",
       "      <td>Gordasdemorales</td>\n",
       "      <td>Mexican</td>\n",
       "      <td>public</td>\n",
       "    </tr>\n",
       "    <tr>\n",
       "      <th>68</th>\n",
       "      <td>GorditasDoaGloria</td>\n",
       "      <td>Mexican</td>\n",
       "      <td>public</td>\n",
       "    </tr>\n",
       "    <tr>\n",
       "      <th>75</th>\n",
       "      <td>GorditasDonaTota</td>\n",
       "      <td>Mexican</td>\n",
       "      <td>public</td>\n",
       "    </tr>\n",
       "    <tr>\n",
       "      <th>84</th>\n",
       "      <td>LaEstrelladeDimas</td>\n",
       "      <td>Mexican</td>\n",
       "      <td>public</td>\n",
       "    </tr>\n",
       "  </tbody>\n",
       "</table>\n",
       "</div>"
      ],
      "text/plain": [
       "                    name Rcuisine parking_lot\n",
       "36  HamburguesasLaperica  Mexican      public\n",
       "54       Gordasdemorales  Mexican      public\n",
       "68     GorditasDoaGloria  Mexican      public\n",
       "75      GorditasDonaTota  Mexican      public\n",
       "84     LaEstrelladeDimas  Mexican      public"
      ]
     },
     "execution_count": 55,
     "metadata": {},
     "output_type": "execute_result"
    }
   ],
   "source": [
    "#listing the restuarants which offers Mexican cuisine and has public parking\n",
    "subset = restaurant_details_cuisine_parking.loc[(restaurant_details_cuisine_parking.Rcuisine=='Mexican')& (restaurant_details_cuisine_parking.parking_lot == 'public'),['name','Rcuisine','parking_lot']]\n",
    "subset"
   ]
  },
  {
   "cell_type": "code",
   "execution_count": 56,
   "id": "f4f3f68c",
   "metadata": {},
   "outputs": [
    {
     "data": {
      "text/html": [
       "<div>\n",
       "<style scoped>\n",
       "    .dataframe tbody tr th:only-of-type {\n",
       "        vertical-align: middle;\n",
       "    }\n",
       "\n",
       "    .dataframe tbody tr th {\n",
       "        vertical-align: top;\n",
       "    }\n",
       "\n",
       "    .dataframe thead th {\n",
       "        text-align: right;\n",
       "    }\n",
       "</style>\n",
       "<table border=\"1\" class=\"dataframe\">\n",
       "  <thead>\n",
       "    <tr style=\"text-align: right;\">\n",
       "      <th></th>\n",
       "      <th>name</th>\n",
       "      <th>Rcuisine</th>\n",
       "      <th>parking_lot</th>\n",
       "    </tr>\n",
       "  </thead>\n",
       "  <tbody>\n",
       "    <tr>\n",
       "      <th>1</th>\n",
       "      <td>puestodetacos</td>\n",
       "      <td>Mexican</td>\n",
       "      <td>none</td>\n",
       "    </tr>\n",
       "    <tr>\n",
       "      <th>2</th>\n",
       "      <td>ElRincondeSanFrancisco</td>\n",
       "      <td>Mexican</td>\n",
       "      <td>none</td>\n",
       "    </tr>\n",
       "    <tr>\n",
       "      <th>3</th>\n",
       "      <td>carnitas_mata</td>\n",
       "      <td>Mexican</td>\n",
       "      <td>yes</td>\n",
       "    </tr>\n",
       "    <tr>\n",
       "      <th>5</th>\n",
       "      <td>TaqueriaELamigo</td>\n",
       "      <td>Mexican</td>\n",
       "      <td>none</td>\n",
       "    </tr>\n",
       "    <tr>\n",
       "      <th>20</th>\n",
       "      <td>KFC</td>\n",
       "      <td>American</td>\n",
       "      <td>yes</td>\n",
       "    </tr>\n",
       "    <tr>\n",
       "      <th>29</th>\n",
       "      <td>ElRincondeSanFrancisco</td>\n",
       "      <td>Mexican</td>\n",
       "      <td>none</td>\n",
       "    </tr>\n",
       "    <tr>\n",
       "      <th>36</th>\n",
       "      <td>HamburguesasLaperica</td>\n",
       "      <td>Mexican</td>\n",
       "      <td>public</td>\n",
       "    </tr>\n",
       "    <tr>\n",
       "      <th>48</th>\n",
       "      <td>laCochinitaPibilRestauranteYucateco</td>\n",
       "      <td>Mexican</td>\n",
       "      <td>yes</td>\n",
       "    </tr>\n",
       "    <tr>\n",
       "      <th>50</th>\n",
       "      <td>ElOceanoDorado</td>\n",
       "      <td>Mexican</td>\n",
       "      <td>yes</td>\n",
       "    </tr>\n",
       "    <tr>\n",
       "      <th>54</th>\n",
       "      <td>Gordasdemorales</td>\n",
       "      <td>Mexican</td>\n",
       "      <td>public</td>\n",
       "    </tr>\n",
       "    <tr>\n",
       "      <th>58</th>\n",
       "      <td>CenaduriaElRincandeTlaquepaque</td>\n",
       "      <td>Mexican</td>\n",
       "      <td>none</td>\n",
       "    </tr>\n",
       "    <tr>\n",
       "      <th>64</th>\n",
       "      <td>VIPS</td>\n",
       "      <td>American</td>\n",
       "      <td>yes</td>\n",
       "    </tr>\n",
       "    <tr>\n",
       "      <th>68</th>\n",
       "      <td>GorditasDoaGloria</td>\n",
       "      <td>Mexican</td>\n",
       "      <td>public</td>\n",
       "    </tr>\n",
       "    <tr>\n",
       "      <th>73</th>\n",
       "      <td>CarretondeFlautasyMigadas</td>\n",
       "      <td>Mexican</td>\n",
       "      <td>none</td>\n",
       "    </tr>\n",
       "    <tr>\n",
       "      <th>74</th>\n",
       "      <td>Elcotorreo</td>\n",
       "      <td>Mexican</td>\n",
       "      <td>none</td>\n",
       "    </tr>\n",
       "    <tr>\n",
       "      <th>75</th>\n",
       "      <td>GorditasDonaTota</td>\n",
       "      <td>Mexican</td>\n",
       "      <td>public</td>\n",
       "    </tr>\n",
       "    <tr>\n",
       "      <th>78</th>\n",
       "      <td>tacoslosvolcanes</td>\n",
       "      <td>American</td>\n",
       "      <td>none</td>\n",
       "    </tr>\n",
       "    <tr>\n",
       "      <th>80</th>\n",
       "      <td>RestaurantOrizatlan</td>\n",
       "      <td>Mexican</td>\n",
       "      <td>none</td>\n",
       "    </tr>\n",
       "    <tr>\n",
       "      <th>84</th>\n",
       "      <td>LaEstrelladeDimas</td>\n",
       "      <td>Mexican</td>\n",
       "      <td>public</td>\n",
       "    </tr>\n",
       "    <tr>\n",
       "      <th>95</th>\n",
       "      <td>CabanaHuasteca</td>\n",
       "      <td>Mexican</td>\n",
       "      <td>none</td>\n",
       "    </tr>\n",
       "    <tr>\n",
       "      <th>97</th>\n",
       "      <td>LaVirreina</td>\n",
       "      <td>Mexican</td>\n",
       "      <td>none</td>\n",
       "    </tr>\n",
       "    <tr>\n",
       "      <th>99</th>\n",
       "      <td>McDonaldsCentro</td>\n",
       "      <td>American</td>\n",
       "      <td>none</td>\n",
       "    </tr>\n",
       "  </tbody>\n",
       "</table>\n",
       "</div>"
      ],
      "text/plain": [
       "                                   name  Rcuisine parking_lot\n",
       "1                         puestodetacos   Mexican        none\n",
       "2                ElRincondeSanFrancisco   Mexican        none\n",
       "3                         carnitas_mata   Mexican         yes\n",
       "5                       TaqueriaELamigo   Mexican        none\n",
       "20                                  KFC  American         yes\n",
       "29               ElRincondeSanFrancisco   Mexican        none\n",
       "36                 HamburguesasLaperica   Mexican      public\n",
       "48  laCochinitaPibilRestauranteYucateco   Mexican         yes\n",
       "50                       ElOceanoDorado   Mexican         yes\n",
       "54                      Gordasdemorales   Mexican      public\n",
       "58       CenaduriaElRincandeTlaquepaque   Mexican        none\n",
       "64                                 VIPS  American         yes\n",
       "68                    GorditasDoaGloria   Mexican      public\n",
       "73            CarretondeFlautasyMigadas   Mexican        none\n",
       "74                           Elcotorreo   Mexican        none\n",
       "75                     GorditasDonaTota   Mexican      public\n",
       "78                     tacoslosvolcanes  American        none\n",
       "80                  RestaurantOrizatlan   Mexican        none\n",
       "84                    LaEstrelladeDimas   Mexican      public\n",
       "95                       CabanaHuasteca   Mexican        none\n",
       "97                           LaVirreina   Mexican        none\n",
       "99                      McDonaldsCentro  American        none"
      ]
     },
     "metadata": {},
     "output_type": "display_data"
    },
    {
     "data": {
      "text/html": [
       "<div>\n",
       "<style scoped>\n",
       "    .dataframe tbody tr th:only-of-type {\n",
       "        vertical-align: middle;\n",
       "    }\n",
       "\n",
       "    .dataframe tbody tr th {\n",
       "        vertical-align: top;\n",
       "    }\n",
       "\n",
       "    .dataframe thead th {\n",
       "        text-align: right;\n",
       "    }\n",
       "</style>\n",
       "<table border=\"1\" class=\"dataframe\">\n",
       "  <thead>\n",
       "    <tr style=\"text-align: right;\">\n",
       "      <th></th>\n",
       "      <th>name</th>\n",
       "      <th>Rcuisine</th>\n",
       "      <th>parking_lot</th>\n",
       "    </tr>\n",
       "  </thead>\n",
       "  <tbody>\n",
       "    <tr>\n",
       "      <th>1</th>\n",
       "      <td>puestodetacos</td>\n",
       "      <td>Mexican</td>\n",
       "      <td>none</td>\n",
       "    </tr>\n",
       "    <tr>\n",
       "      <th>2</th>\n",
       "      <td>ElRincondeSanFrancisco</td>\n",
       "      <td>Mexican</td>\n",
       "      <td>none</td>\n",
       "    </tr>\n",
       "    <tr>\n",
       "      <th>3</th>\n",
       "      <td>carnitas_mata</td>\n",
       "      <td>Mexican</td>\n",
       "      <td>yes</td>\n",
       "    </tr>\n",
       "    <tr>\n",
       "      <th>5</th>\n",
       "      <td>TaqueriaELamigo</td>\n",
       "      <td>Mexican</td>\n",
       "      <td>none</td>\n",
       "    </tr>\n",
       "    <tr>\n",
       "      <th>20</th>\n",
       "      <td>KFC</td>\n",
       "      <td>American</td>\n",
       "      <td>yes</td>\n",
       "    </tr>\n",
       "    <tr>\n",
       "      <th>29</th>\n",
       "      <td>ElRincondeSanFrancisco</td>\n",
       "      <td>Mexican</td>\n",
       "      <td>none</td>\n",
       "    </tr>\n",
       "    <tr>\n",
       "      <th>36</th>\n",
       "      <td>HamburguesasLaperica</td>\n",
       "      <td>Mexican</td>\n",
       "      <td>public</td>\n",
       "    </tr>\n",
       "    <tr>\n",
       "      <th>48</th>\n",
       "      <td>laCochinitaPibilRestauranteYucateco</td>\n",
       "      <td>Mexican</td>\n",
       "      <td>yes</td>\n",
       "    </tr>\n",
       "    <tr>\n",
       "      <th>50</th>\n",
       "      <td>ElOceanoDorado</td>\n",
       "      <td>Mexican</td>\n",
       "      <td>yes</td>\n",
       "    </tr>\n",
       "    <tr>\n",
       "      <th>54</th>\n",
       "      <td>Gordasdemorales</td>\n",
       "      <td>Mexican</td>\n",
       "      <td>public</td>\n",
       "    </tr>\n",
       "    <tr>\n",
       "      <th>58</th>\n",
       "      <td>CenaduriaElRincandeTlaquepaque</td>\n",
       "      <td>Mexican</td>\n",
       "      <td>none</td>\n",
       "    </tr>\n",
       "    <tr>\n",
       "      <th>64</th>\n",
       "      <td>VIPS</td>\n",
       "      <td>American</td>\n",
       "      <td>yes</td>\n",
       "    </tr>\n",
       "    <tr>\n",
       "      <th>68</th>\n",
       "      <td>GorditasDoaGloria</td>\n",
       "      <td>Mexican</td>\n",
       "      <td>public</td>\n",
       "    </tr>\n",
       "    <tr>\n",
       "      <th>73</th>\n",
       "      <td>CarretondeFlautasyMigadas</td>\n",
       "      <td>Mexican</td>\n",
       "      <td>none</td>\n",
       "    </tr>\n",
       "    <tr>\n",
       "      <th>74</th>\n",
       "      <td>Elcotorreo</td>\n",
       "      <td>Mexican</td>\n",
       "      <td>none</td>\n",
       "    </tr>\n",
       "    <tr>\n",
       "      <th>75</th>\n",
       "      <td>GorditasDonaTota</td>\n",
       "      <td>Mexican</td>\n",
       "      <td>public</td>\n",
       "    </tr>\n",
       "    <tr>\n",
       "      <th>78</th>\n",
       "      <td>tacoslosvolcanes</td>\n",
       "      <td>American</td>\n",
       "      <td>none</td>\n",
       "    </tr>\n",
       "    <tr>\n",
       "      <th>80</th>\n",
       "      <td>RestaurantOrizatlan</td>\n",
       "      <td>Mexican</td>\n",
       "      <td>none</td>\n",
       "    </tr>\n",
       "    <tr>\n",
       "      <th>84</th>\n",
       "      <td>LaEstrelladeDimas</td>\n",
       "      <td>Mexican</td>\n",
       "      <td>public</td>\n",
       "    </tr>\n",
       "    <tr>\n",
       "      <th>95</th>\n",
       "      <td>CabanaHuasteca</td>\n",
       "      <td>Mexican</td>\n",
       "      <td>none</td>\n",
       "    </tr>\n",
       "    <tr>\n",
       "      <th>97</th>\n",
       "      <td>LaVirreina</td>\n",
       "      <td>Mexican</td>\n",
       "      <td>none</td>\n",
       "    </tr>\n",
       "    <tr>\n",
       "      <th>99</th>\n",
       "      <td>McDonaldsCentro</td>\n",
       "      <td>American</td>\n",
       "      <td>none</td>\n",
       "    </tr>\n",
       "  </tbody>\n",
       "</table>\n",
       "</div>"
      ],
      "text/plain": [
       "                                   name  Rcuisine parking_lot\n",
       "1                         puestodetacos   Mexican        none\n",
       "2                ElRincondeSanFrancisco   Mexican        none\n",
       "3                         carnitas_mata   Mexican         yes\n",
       "5                       TaqueriaELamigo   Mexican        none\n",
       "20                                  KFC  American         yes\n",
       "29               ElRincondeSanFrancisco   Mexican        none\n",
       "36                 HamburguesasLaperica   Mexican      public\n",
       "48  laCochinitaPibilRestauranteYucateco   Mexican         yes\n",
       "50                       ElOceanoDorado   Mexican         yes\n",
       "54                      Gordasdemorales   Mexican      public\n",
       "58       CenaduriaElRincandeTlaquepaque   Mexican        none\n",
       "64                                 VIPS  American         yes\n",
       "68                    GorditasDoaGloria   Mexican      public\n",
       "73            CarretondeFlautasyMigadas   Mexican        none\n",
       "74                           Elcotorreo   Mexican        none\n",
       "75                     GorditasDonaTota   Mexican      public\n",
       "78                     tacoslosvolcanes  American        none\n",
       "80                  RestaurantOrizatlan   Mexican        none\n",
       "84                    LaEstrelladeDimas   Mexican      public\n",
       "95                       CabanaHuasteca   Mexican        none\n",
       "97                           LaVirreina   Mexican        none\n",
       "99                      McDonaldsCentro  American        none"
      ]
     },
     "execution_count": 56,
     "metadata": {},
     "output_type": "execute_result"
    }
   ],
   "source": [
    "# restaurants which provides both American and Mexican cuisine\n",
    "subset = restaurant_details_cuisine_parking.loc[(restaurant_details_cuisine_parking.Rcuisine=='Mexican') | (restaurant_details_cuisine_parking.Rcuisine == 'American'),['name','Rcuisine','parking_lot']]\n",
    "display(subset)\n",
    "\n",
    "subset = restaurant_details_cuisine_parking.loc[(restaurant_details_cuisine_parking.Rcuisine.isin(['Mexican','American'])),['name','Rcuisine','parking_lot']]\n",
    "subset"
   ]
  },
  {
   "cell_type": "code",
   "execution_count": 57,
   "id": "01f86e18",
   "metadata": {},
   "outputs": [
    {
     "name": "stdout",
     "output_type": "stream",
     "text": [
      "['gender' 'smoker' 'drink_level' 'dress_preference' 'ambience' 'transport'\n",
      " 'marital_status' 'interest' 'personality' 'religion' 'activity' 'income'\n",
      " 'FRVPM' 'AERPM']\n"
     ]
    }
   ],
   "source": [
    "print(consumer_survey.columns.values)"
   ]
  },
  {
   "cell_type": "code",
   "execution_count": 58,
   "id": "c1159c38",
   "metadata": {},
   "outputs": [
    {
     "data": {
      "text/html": [
       "<div>\n",
       "<style scoped>\n",
       "    .dataframe tbody tr th:only-of-type {\n",
       "        vertical-align: middle;\n",
       "    }\n",
       "\n",
       "    .dataframe tbody tr th {\n",
       "        vertical-align: top;\n",
       "    }\n",
       "\n",
       "    .dataframe thead th {\n",
       "        text-align: right;\n",
       "    }\n",
       "</style>\n",
       "<table border=\"1\" class=\"dataframe\">\n",
       "  <thead>\n",
       "    <tr style=\"text-align: right;\">\n",
       "      <th></th>\n",
       "      <th>gender</th>\n",
       "      <th>smoker</th>\n",
       "      <th>marital_status</th>\n",
       "      <th>FRVPM</th>\n",
       "    </tr>\n",
       "  </thead>\n",
       "  <tbody>\n",
       "    <tr>\n",
       "      <th>0</th>\n",
       "      <td>male</td>\n",
       "      <td>False</td>\n",
       "      <td>single</td>\n",
       "      <td>12</td>\n",
       "    </tr>\n",
       "    <tr>\n",
       "      <th>1</th>\n",
       "      <td>female</td>\n",
       "      <td>False</td>\n",
       "      <td>single</td>\n",
       "      <td>12</td>\n",
       "    </tr>\n",
       "    <tr>\n",
       "      <th>2</th>\n",
       "      <td>female</td>\n",
       "      <td>False</td>\n",
       "      <td>single</td>\n",
       "      <td>3</td>\n",
       "    </tr>\n",
       "    <tr>\n",
       "      <th>3</th>\n",
       "      <td>male</td>\n",
       "      <td>False</td>\n",
       "      <td>single</td>\n",
       "      <td>18</td>\n",
       "    </tr>\n",
       "    <tr>\n",
       "      <th>4</th>\n",
       "      <td>female</td>\n",
       "      <td>False</td>\n",
       "      <td>single</td>\n",
       "      <td>15</td>\n",
       "    </tr>\n",
       "  </tbody>\n",
       "</table>\n",
       "</div>"
      ],
      "text/plain": [
       "   gender smoker marital_status  FRVPM\n",
       "0    male  False         single     12\n",
       "1  female  False         single     12\n",
       "2  female  False         single      3\n",
       "3    male  False         single     18\n",
       "4  female  False         single     15"
      ]
     },
     "execution_count": 58,
     "metadata": {},
     "output_type": "execute_result"
    }
   ],
   "source": [
    "subset= consumer_survey.loc[:,['gender','smoker','marital_status','FRVPM']]\n",
    "subset.head()"
   ]
  },
  {
   "cell_type": "code",
   "execution_count": 59,
   "id": "0c7ec798",
   "metadata": {},
   "outputs": [
    {
     "data": {
      "text/html": [
       "<div>\n",
       "<style scoped>\n",
       "    .dataframe tbody tr th:only-of-type {\n",
       "        vertical-align: middle;\n",
       "    }\n",
       "\n",
       "    .dataframe tbody tr th {\n",
       "        vertical-align: top;\n",
       "    }\n",
       "\n",
       "    .dataframe thead th {\n",
       "        text-align: right;\n",
       "    }\n",
       "</style>\n",
       "<table border=\"1\" class=\"dataframe\">\n",
       "  <thead>\n",
       "    <tr style=\"text-align: right;\">\n",
       "      <th></th>\n",
       "      <th>gender</th>\n",
       "      <th>smoker</th>\n",
       "      <th>marital_status</th>\n",
       "      <th>FRVPM</th>\n",
       "    </tr>\n",
       "  </thead>\n",
       "  <tbody>\n",
       "    <tr>\n",
       "      <th>100</th>\n",
       "      <td>male</td>\n",
       "      <td>False</td>\n",
       "      <td>single</td>\n",
       "      <td>60</td>\n",
       "    </tr>\n",
       "    <tr>\n",
       "      <th>136</th>\n",
       "      <td>male</td>\n",
       "      <td>False</td>\n",
       "      <td>single</td>\n",
       "      <td>45</td>\n",
       "    </tr>\n",
       "    <tr>\n",
       "      <th>10</th>\n",
       "      <td>female</td>\n",
       "      <td>False</td>\n",
       "      <td>single</td>\n",
       "      <td>22</td>\n",
       "    </tr>\n",
       "    <tr>\n",
       "      <th>3</th>\n",
       "      <td>male</td>\n",
       "      <td>False</td>\n",
       "      <td>single</td>\n",
       "      <td>18</td>\n",
       "    </tr>\n",
       "    <tr>\n",
       "      <th>16</th>\n",
       "      <td>female</td>\n",
       "      <td>False</td>\n",
       "      <td>single</td>\n",
       "      <td>18</td>\n",
       "    </tr>\n",
       "  </tbody>\n",
       "</table>\n",
       "</div>"
      ],
      "text/plain": [
       "     gender smoker marital_status  FRVPM\n",
       "100    male  False         single     60\n",
       "136    male  False         single     45\n",
       "10   female  False         single     22\n",
       "3      male  False         single     18\n",
       "16   female  False         single     18"
      ]
     },
     "execution_count": 59,
     "metadata": {},
     "output_type": "execute_result"
    }
   ],
   "source": [
    "subset.sort_values(by =['FRVPM'], ascending=False).head()"
   ]
  },
  {
   "cell_type": "code",
   "execution_count": 60,
   "id": "a7a9a172",
   "metadata": {},
   "outputs": [
    {
     "data": {
      "text/plain": [
       "none             39\n",
       "yes              38\n",
       "public           14\n",
       "valet parking     1\n",
       "Name: parking_lot, dtype: int64"
      ]
     },
     "execution_count": 60,
     "metadata": {},
     "output_type": "execute_result"
    }
   ],
   "source": [
    "restaurant_details_cuisine_parking['parking_lot'].value_counts()"
   ]
  },
  {
   "cell_type": "code",
   "execution_count": 61,
   "id": "b0af9eec",
   "metadata": {},
   "outputs": [
    {
     "data": {
      "text/html": [
       "<div>\n",
       "<style scoped>\n",
       "    .dataframe tbody tr th:only-of-type {\n",
       "        vertical-align: middle;\n",
       "    }\n",
       "\n",
       "    .dataframe tbody tr th {\n",
       "        vertical-align: top;\n",
       "    }\n",
       "\n",
       "    .dataframe thead th {\n",
       "        text-align: right;\n",
       "    }\n",
       "</style>\n",
       "<table border=\"1\" class=\"dataframe\">\n",
       "  <thead>\n",
       "    <tr style=\"text-align: right;\">\n",
       "      <th></th>\n",
       "      <th>placeID</th>\n",
       "      <th>name</th>\n",
       "      <th>Rcuisine</th>\n",
       "      <th>parking_lot</th>\n",
       "      <th>parking_availability</th>\n",
       "    </tr>\n",
       "  </thead>\n",
       "  <tbody>\n",
       "    <tr>\n",
       "      <th>0</th>\n",
       "      <td>134999</td>\n",
       "      <td>KikuCuernavaca</td>\n",
       "      <td>Japanese</td>\n",
       "      <td>none</td>\n",
       "      <td>False</td>\n",
       "    </tr>\n",
       "    <tr>\n",
       "      <th>1</th>\n",
       "      <td>132825</td>\n",
       "      <td>puestodetacos</td>\n",
       "      <td>Mexican</td>\n",
       "      <td>none</td>\n",
       "      <td>False</td>\n",
       "    </tr>\n",
       "    <tr>\n",
       "      <th>2</th>\n",
       "      <td>135106</td>\n",
       "      <td>ElRincondeSanFrancisco</td>\n",
       "      <td>Mexican</td>\n",
       "      <td>none</td>\n",
       "      <td>False</td>\n",
       "    </tr>\n",
       "    <tr>\n",
       "      <th>3</th>\n",
       "      <td>132613</td>\n",
       "      <td>carnitas_mata</td>\n",
       "      <td>Mexican</td>\n",
       "      <td>yes</td>\n",
       "      <td>True</td>\n",
       "    </tr>\n",
       "    <tr>\n",
       "      <th>5</th>\n",
       "      <td>132732</td>\n",
       "      <td>TaqueriaELamigo</td>\n",
       "      <td>Mexican</td>\n",
       "      <td>none</td>\n",
       "      <td>False</td>\n",
       "    </tr>\n",
       "  </tbody>\n",
       "</table>\n",
       "</div>"
      ],
      "text/plain": [
       "   placeID                    name  Rcuisine parking_lot  parking_availability\n",
       "0   134999          KikuCuernavaca  Japanese        none                 False\n",
       "1   132825           puestodetacos   Mexican        none                 False\n",
       "2   135106  ElRincondeSanFrancisco   Mexican        none                 False\n",
       "3   132613           carnitas_mata   Mexican         yes                  True\n",
       "5   132732         TaqueriaELamigo   Mexican        none                 False"
      ]
     },
     "execution_count": 61,
     "metadata": {},
     "output_type": "execute_result"
    }
   ],
   "source": [
    "restaurant_details_cuisine_parking['parking_availability']= restaurant_details_cuisine_parking['parking_lot'] != 'none'\n",
    "restaurant_details_cuisine_parking.loc[:,['placeID','name','Rcuisine','parking_lot','parking_availability']].head()"
   ]
  },
  {
   "cell_type": "code",
   "execution_count": 62,
   "id": "55dd5c2e",
   "metadata": {},
   "outputs": [
    {
     "data": {
      "text/plain": [
       "True     53\n",
       "False    39\n",
       "Name: parking_availability, dtype: int64"
      ]
     },
     "execution_count": 62,
     "metadata": {},
     "output_type": "execute_result"
    }
   ],
   "source": [
    "restaurant_details_cuisine_parking['parking_availability'].value_counts()"
   ]
  },
  {
   "cell_type": "code",
   "execution_count": 63,
   "id": "9070d960",
   "metadata": {},
   "outputs": [
    {
     "data": {
      "text/html": [
       "<div>\n",
       "<style scoped>\n",
       "    .dataframe tbody tr th:only-of-type {\n",
       "        vertical-align: middle;\n",
       "    }\n",
       "\n",
       "    .dataframe tbody tr th {\n",
       "        vertical-align: top;\n",
       "    }\n",
       "\n",
       "    .dataframe thead th {\n",
       "        text-align: right;\n",
       "    }\n",
       "</style>\n",
       "<table border=\"1\" class=\"dataframe\">\n",
       "  <thead>\n",
       "    <tr style=\"text-align: right;\">\n",
       "      <th></th>\n",
       "      <th>userID</th>\n",
       "      <th>placeID</th>\n",
       "      <th>food_rating</th>\n",
       "      <th>service_rating</th>\n",
       "    </tr>\n",
       "  </thead>\n",
       "  <tbody>\n",
       "    <tr>\n",
       "      <th>0</th>\n",
       "      <td>U1077</td>\n",
       "      <td>135085</td>\n",
       "      <td>2</td>\n",
       "      <td>2</td>\n",
       "    </tr>\n",
       "    <tr>\n",
       "      <th>1</th>\n",
       "      <td>U1077</td>\n",
       "      <td>135038</td>\n",
       "      <td>2</td>\n",
       "      <td>1</td>\n",
       "    </tr>\n",
       "    <tr>\n",
       "      <th>2</th>\n",
       "      <td>U1077</td>\n",
       "      <td>132825</td>\n",
       "      <td>2</td>\n",
       "      <td>2</td>\n",
       "    </tr>\n",
       "    <tr>\n",
       "      <th>3</th>\n",
       "      <td>U1077</td>\n",
       "      <td>135060</td>\n",
       "      <td>2</td>\n",
       "      <td>2</td>\n",
       "    </tr>\n",
       "    <tr>\n",
       "      <th>4</th>\n",
       "      <td>U1068</td>\n",
       "      <td>135104</td>\n",
       "      <td>1</td>\n",
       "      <td>2</td>\n",
       "    </tr>\n",
       "  </tbody>\n",
       "</table>\n",
       "</div>"
      ],
      "text/plain": [
       "  userID  placeID  food_rating  service_rating\n",
       "0  U1077   135085            2               2\n",
       "1  U1077   135038            2               1\n",
       "2  U1077   132825            2               2\n",
       "3  U1077   135060            2               2\n",
       "4  U1068   135104            1               2"
      ]
     },
     "execution_count": 63,
     "metadata": {},
     "output_type": "execute_result"
    }
   ],
   "source": [
    "user_ratings.head()"
   ]
  },
  {
   "cell_type": "markdown",
   "id": "d648f662",
   "metadata": {},
   "source": [
    "## Melting a dataset"
   ]
  },
  {
   "cell_type": "code",
   "execution_count": 64,
   "id": "949b35ba",
   "metadata": {},
   "outputs": [],
   "source": [
    "user_rating_melted=pd.melt(user_ratings,id_vars=['userID','placeID'], value_vars =['food_rating', 'service_rating'], var_name='food/service', value_name='rating')"
   ]
  },
  {
   "cell_type": "code",
   "execution_count": 65,
   "id": "d5bd4d2f",
   "metadata": {},
   "outputs": [
    {
     "data": {
      "text/html": [
       "<div>\n",
       "<style scoped>\n",
       "    .dataframe tbody tr th:only-of-type {\n",
       "        vertical-align: middle;\n",
       "    }\n",
       "\n",
       "    .dataframe tbody tr th {\n",
       "        vertical-align: top;\n",
       "    }\n",
       "\n",
       "    .dataframe thead th {\n",
       "        text-align: right;\n",
       "    }\n",
       "</style>\n",
       "<table border=\"1\" class=\"dataframe\">\n",
       "  <thead>\n",
       "    <tr style=\"text-align: right;\">\n",
       "      <th></th>\n",
       "      <th>userID</th>\n",
       "      <th>placeID</th>\n",
       "      <th>food/service</th>\n",
       "      <th>rating</th>\n",
       "    </tr>\n",
       "  </thead>\n",
       "  <tbody>\n",
       "    <tr>\n",
       "      <th>0</th>\n",
       "      <td>U1077</td>\n",
       "      <td>135085</td>\n",
       "      <td>food_rating</td>\n",
       "      <td>2</td>\n",
       "    </tr>\n",
       "    <tr>\n",
       "      <th>1</th>\n",
       "      <td>U1077</td>\n",
       "      <td>135038</td>\n",
       "      <td>food_rating</td>\n",
       "      <td>2</td>\n",
       "    </tr>\n",
       "    <tr>\n",
       "      <th>2</th>\n",
       "      <td>U1077</td>\n",
       "      <td>132825</td>\n",
       "      <td>food_rating</td>\n",
       "      <td>2</td>\n",
       "    </tr>\n",
       "    <tr>\n",
       "      <th>3</th>\n",
       "      <td>U1077</td>\n",
       "      <td>135060</td>\n",
       "      <td>food_rating</td>\n",
       "      <td>2</td>\n",
       "    </tr>\n",
       "    <tr>\n",
       "      <th>4</th>\n",
       "      <td>U1068</td>\n",
       "      <td>135104</td>\n",
       "      <td>food_rating</td>\n",
       "      <td>1</td>\n",
       "    </tr>\n",
       "  </tbody>\n",
       "</table>\n",
       "</div>"
      ],
      "text/plain": [
       "  userID  placeID food/service  rating\n",
       "0  U1077   135085  food_rating       2\n",
       "1  U1077   135038  food_rating       2\n",
       "2  U1077   132825  food_rating       2\n",
       "3  U1077   135060  food_rating       2\n",
       "4  U1068   135104  food_rating       1"
      ]
     },
     "metadata": {},
     "output_type": "display_data"
    },
    {
     "data": {
      "text/html": [
       "<div>\n",
       "<style scoped>\n",
       "    .dataframe tbody tr th:only-of-type {\n",
       "        vertical-align: middle;\n",
       "    }\n",
       "\n",
       "    .dataframe tbody tr th {\n",
       "        vertical-align: top;\n",
       "    }\n",
       "\n",
       "    .dataframe thead th {\n",
       "        text-align: right;\n",
       "    }\n",
       "</style>\n",
       "<table border=\"1\" class=\"dataframe\">\n",
       "  <thead>\n",
       "    <tr style=\"text-align: right;\">\n",
       "      <th></th>\n",
       "      <th>userID</th>\n",
       "      <th>placeID</th>\n",
       "      <th>food/service</th>\n",
       "      <th>rating</th>\n",
       "    </tr>\n",
       "  </thead>\n",
       "  <tbody>\n",
       "    <tr>\n",
       "      <th>2317</th>\n",
       "      <td>U1043</td>\n",
       "      <td>132630</td>\n",
       "      <td>service_rating</td>\n",
       "      <td>1</td>\n",
       "    </tr>\n",
       "    <tr>\n",
       "      <th>2318</th>\n",
       "      <td>U1011</td>\n",
       "      <td>132715</td>\n",
       "      <td>service_rating</td>\n",
       "      <td>0</td>\n",
       "    </tr>\n",
       "    <tr>\n",
       "      <th>2319</th>\n",
       "      <td>U1068</td>\n",
       "      <td>132733</td>\n",
       "      <td>service_rating</td>\n",
       "      <td>0</td>\n",
       "    </tr>\n",
       "    <tr>\n",
       "      <th>2320</th>\n",
       "      <td>U1068</td>\n",
       "      <td>132594</td>\n",
       "      <td>service_rating</td>\n",
       "      <td>1</td>\n",
       "    </tr>\n",
       "    <tr>\n",
       "      <th>2321</th>\n",
       "      <td>U1068</td>\n",
       "      <td>132660</td>\n",
       "      <td>service_rating</td>\n",
       "      <td>0</td>\n",
       "    </tr>\n",
       "  </tbody>\n",
       "</table>\n",
       "</div>"
      ],
      "text/plain": [
       "     userID  placeID    food/service  rating\n",
       "2317  U1043   132630  service_rating       1\n",
       "2318  U1011   132715  service_rating       0\n",
       "2319  U1068   132733  service_rating       0\n",
       "2320  U1068   132594  service_rating       1\n",
       "2321  U1068   132660  service_rating       0"
      ]
     },
     "metadata": {},
     "output_type": "display_data"
    }
   ],
   "source": [
    "display(user_rating_melted.head())\n",
    "display(user_rating_melted.tail())"
   ]
  },
  {
   "cell_type": "markdown",
   "id": "736ce972",
   "metadata": {},
   "source": [
    "### Cast a dataframe"
   ]
  },
  {
   "cell_type": "code",
   "execution_count": 66,
   "id": "d0b93f44",
   "metadata": {},
   "outputs": [
    {
     "data": {
      "text/html": [
       "<div>\n",
       "<style scoped>\n",
       "    .dataframe tbody tr th:only-of-type {\n",
       "        vertical-align: middle;\n",
       "    }\n",
       "\n",
       "    .dataframe tbody tr th {\n",
       "        vertical-align: top;\n",
       "    }\n",
       "\n",
       "    .dataframe thead th {\n",
       "        text-align: right;\n",
       "    }\n",
       "</style>\n",
       "<table border=\"1\" class=\"dataframe\">\n",
       "  <thead>\n",
       "    <tr style=\"text-align: right;\">\n",
       "      <th>food/service</th>\n",
       "      <th>food_rating</th>\n",
       "      <th>service_rating</th>\n",
       "    </tr>\n",
       "    <tr>\n",
       "      <th>placeID</th>\n",
       "      <th></th>\n",
       "      <th></th>\n",
       "    </tr>\n",
       "  </thead>\n",
       "  <tbody>\n",
       "    <tr>\n",
       "      <th>132560</th>\n",
       "      <td>1.00</td>\n",
       "      <td>0.250000</td>\n",
       "    </tr>\n",
       "    <tr>\n",
       "      <th>132561</th>\n",
       "      <td>1.00</td>\n",
       "      <td>1.000000</td>\n",
       "    </tr>\n",
       "    <tr>\n",
       "      <th>132564</th>\n",
       "      <td>1.25</td>\n",
       "      <td>1.500000</td>\n",
       "    </tr>\n",
       "    <tr>\n",
       "      <th>132572</th>\n",
       "      <td>1.00</td>\n",
       "      <td>0.933333</td>\n",
       "    </tr>\n",
       "    <tr>\n",
       "      <th>132583</th>\n",
       "      <td>1.00</td>\n",
       "      <td>1.250000</td>\n",
       "    </tr>\n",
       "  </tbody>\n",
       "</table>\n",
       "</div>"
      ],
      "text/plain": [
       "food/service  food_rating  service_rating\n",
       "placeID                                  \n",
       "132560               1.00        0.250000\n",
       "132561               1.00        1.000000\n",
       "132564               1.25        1.500000\n",
       "132572               1.00        0.933333\n",
       "132583               1.00        1.250000"
      ]
     },
     "execution_count": 66,
     "metadata": {},
     "output_type": "execute_result"
    }
   ],
   "source": [
    "#food_rating, service_rating shows avg food, service rating at each restaurant\n",
    "pd.pivot_table(user_rating_melted, index='placeID', columns='food/service',values='rating',aggfunc='mean').head()"
   ]
  },
  {
   "cell_type": "markdown",
   "id": "5b28176f",
   "metadata": {},
   "source": [
    "### Exploring and Summerizing Data"
   ]
  },
  {
   "cell_type": "markdown",
   "id": "aad6509b",
   "metadata": {},
   "source": [
    "### Exploring Quantative Attributes\n",
    "#### Five Number Summary"
   ]
  },
  {
   "cell_type": "code",
   "execution_count": 67,
   "id": "4ef95479",
   "metadata": {},
   "outputs": [
    {
     "data": {
      "text/plain": [
       "count    134.000000\n",
       "mean       9.067164\n",
       "std        6.906680\n",
       "min        2.000000\n",
       "25%        5.000000\n",
       "50%        8.000000\n",
       "75%       12.000000\n",
       "max       60.000000\n",
       "Name: FRVPM, dtype: float64"
      ]
     },
     "execution_count": 67,
     "metadata": {},
     "output_type": "execute_result"
    }
   ],
   "source": [
    "five_number_summary =consumer_survey.FRVPM.describe()\n",
    "five_number_summary"
   ]
  },
  {
   "cell_type": "markdown",
   "id": "fc1f3e66",
   "metadata": {},
   "source": [
    "## BOX plot"
   ]
  },
  {
   "cell_type": "code",
   "execution_count": 68,
   "id": "9c5bf2ee",
   "metadata": {},
   "outputs": [
    {
     "data": {
      "image/png": "[encoded data removed]",
      "text/plain": [
       "<Figure size 432x288 with 1 Axes>"
      ]
     },
     "metadata": {
      "needs_background": "light"
     },
     "output_type": "display_data"
    }
   ],
   "source": [
    "sns.boxplot(y=consumer_survey[\"FRVPM\"])\n",
    "plt.title('boxplot of FRVPM')\n",
    "plt.show()"
   ]
  },
  {
   "cell_type": "code",
   "execution_count": 69,
   "id": "4fe46461",
   "metadata": {},
   "outputs": [
    {
     "name": "stdout",
     "output_type": "stream",
     "text": [
      "[60 45 22]\n"
     ]
    }
   ],
   "source": [
    "# largest 3 values from frvpm column\n",
    "print(consumer_survey['FRVPM'].nlargest(3).values)"
   ]
  },
  {
   "cell_type": "code",
   "execution_count": 70,
   "id": "bcb49d68",
   "metadata": {},
   "outputs": [
    {
     "name": "stdout",
     "output_type": "stream",
     "text": [
      "IQR 7.0\n",
      "1.5* IQR: 10.5\n",
      "upper_limit:  22.5\n",
      "lower_limit:  -5.5\n"
     ]
    }
   ],
   "source": [
    "# finding Inter Quartile range to compute UWL and LWL\n",
    "# IQR is difference between 75%  and 25% summary\n",
    "IQR = five_number_summary['75%'] - five_number_summary['25%']\n",
    "upper_limit=(1.5 * IQR)+five_number_summary['75%']\n",
    "lower_limit=five_number_summary['25%'] -(1.5* IQR)\n",
    "\n",
    "print(\"IQR\", IQR)\n",
    "print(\"1.5* IQR:\", 1.5 * IQR)\n",
    "print('upper_limit: ',upper_limit)\n",
    "print('lower_limit: ',lower_limit)\n"
   ]
  },
  {
   "cell_type": "markdown",
   "id": "4d1082f1",
   "metadata": {},
   "source": [
    "### Histogram"
   ]
  },
  {
   "cell_type": "code",
   "execution_count": 71,
   "id": "b593e70d",
   "metadata": {},
   "outputs": [
    {
     "data": {
      "image/png": "[encoded data removed]",
      "text/plain": [
       "<Figure size 432x288 with 1 Axes>"
      ]
     },
     "metadata": {
      "needs_background": "light"
     },
     "output_type": "display_data"
    }
   ],
   "source": [
    "sns.histplot(consumer_survey['FRVPM'], kde=False)\n",
    "plt.title(\"Histogram for (FRVPM) Frequent Visit to Restaurant per month\")\n",
    "plt.xlabel('FRVPM')\n",
    "plt.ylabel('Frequency')\n",
    "plt.show()"
   ]
  },
  {
   "cell_type": "markdown",
   "id": "69a29db5",
   "metadata": {},
   "source": [
    "### Bar Chart"
   ]
  },
  {
   "cell_type": "code",
   "execution_count": 72,
   "id": "e2cbb2c6",
   "metadata": {},
   "outputs": [],
   "source": [
    "consumer_survey['income']=pd.Categorical(consumer_survey['income'], categories=['low','medium','high'], ordered=True)"
   ]
  },
  {
   "cell_type": "code",
   "execution_count": 73,
   "id": "db2838b3",
   "metadata": {},
   "outputs": [
    {
     "data": {
      "text/plain": [
       "medium    82\n",
       "low       36\n",
       "high      16\n",
       "Name: income, dtype: int64"
      ]
     },
     "metadata": {},
     "output_type": "display_data"
    }
   ],
   "source": [
    "cs_data=consumer_survey['income'].value_counts()\n",
    "display(cs_data)"
   ]
  },
  {
   "cell_type": "code",
   "execution_count": 74,
   "id": "001a5a9c",
   "metadata": {},
   "outputs": [
    {
     "data": {
      "image/png": "[encoded data removed]",
      "text/plain": [
       "<Figure size 432x288 with 1 Axes>"
      ]
     },
     "metadata": {
      "needs_background": "light"
     },
     "output_type": "display_data"
    }
   ],
   "source": [
    "sns.countplot(x='income', data= consumer_survey)\n",
    "plt_title=('Barchart of income')\n",
    "plt.show()"
   ]
  },
  {
   "cell_type": "code",
   "execution_count": 75,
   "id": "6aa99458",
   "metadata": {},
   "outputs": [
    {
     "data": {
      "image/png": "[encoded data removed]",
      "text/plain": [
       "<Figure size 432x288 with 1 Axes>"
      ]
     },
     "metadata": {
      "needs_background": "light"
     },
     "output_type": "display_data"
    }
   ],
   "source": [
    "subset =pd.DataFrame(consumer_survey.FRVPM>10)\n",
    "subset.columns=['FRVPM>10']\n",
    "sns.countplot(x ='FRVPM>10', data=subset)\n",
    "plt.title('Barchart of consumer with FRVPM>10')\n",
    "plt.show()"
   ]
  },
  {
   "cell_type": "code",
   "execution_count": 76,
   "id": "a9cc0951",
   "metadata": {},
   "outputs": [
    {
     "data": {
      "text/plain": [
       "([<matplotlib.patches.Wedge at 0x22b48dff430>,\n",
       "  <matplotlib.patches.Wedge at 0x22b48dffbb0>,\n",
       "  <matplotlib.patches.Wedge at 0x22b48e0c370>],\n",
       " [Text(-0.378913619011373, 1.032678299049469, 'medium'),\n",
       "  Text(-0.025786603527060265, -1.0996977089539373, 'low'),\n",
       "  Text(1.0235119237908408, -0.4030177934756383, 'high')],\n",
       " [Text(-0.20668015582438523, 0.5632790722088011, '61%'),\n",
       "  Text(-0.014065420105669234, -0.5998351139748748, '27%'),\n",
       "  Text(0.5582792311586404, -0.21982788735034814, '12%')])"
      ]
     },
     "execution_count": 76,
     "metadata": {},
     "output_type": "execute_result"
    },
    {
     "data": {
      "image/png": "[encoded data removed]",
      "text/plain": [
       "<Figure size 432x288 with 1 Axes>"
      ]
     },
     "metadata": {},
     "output_type": "display_data"
    }
   ],
   "source": [
    "palette_color=sns.color_palette('bright')\n",
    "cs_data=consumer_survey['income'].value_counts()\n",
    "plt.pie(cs_data, labels=['medium','low','high'], colors=palette_color, autopct='%.0f%%')"
   ]
  },
  {
   "cell_type": "markdown",
   "id": "92b6da00",
   "metadata": {},
   "source": [
    "### Exploring Qualitative Atrributes\n",
    "#### Cross tabulation: This method is used to compute a simple cross-tabulation of two (or more) factors. By default, computes a frequency table of the factors unless an array of values and an aggregation function are passed.\n",
    "#### In simple words Takes a qualitative attribute as input.Gives the frequency of the input data across various levels/categories as output\n"
   ]
  },
  {
   "cell_type": "code",
   "execution_count": 77,
   "id": "6feeceea",
   "metadata": {},
   "outputs": [
    {
     "data": {
      "text/html": [
       "<div>\n",
       "<style scoped>\n",
       "    .dataframe tbody tr th:only-of-type {\n",
       "        vertical-align: middle;\n",
       "    }\n",
       "\n",
       "    .dataframe tbody tr th {\n",
       "        vertical-align: top;\n",
       "    }\n",
       "\n",
       "    .dataframe thead th {\n",
       "        text-align: right;\n",
       "    }\n",
       "</style>\n",
       "<table border=\"1\" class=\"dataframe\">\n",
       "  <thead>\n",
       "    <tr style=\"text-align: right;\">\n",
       "      <th></th>\n",
       "      <th>count</th>\n",
       "    </tr>\n",
       "    <tr>\n",
       "      <th>gender</th>\n",
       "      <th></th>\n",
       "    </tr>\n",
       "  </thead>\n",
       "  <tbody>\n",
       "    <tr>\n",
       "      <th>female</th>\n",
       "      <td>61</td>\n",
       "    </tr>\n",
       "    <tr>\n",
       "      <th>male</th>\n",
       "      <td>73</td>\n",
       "    </tr>\n",
       "  </tbody>\n",
       "</table>\n",
       "</div>"
      ],
      "text/plain": [
       "        count\n",
       "gender       \n",
       "female     61\n",
       "male       73"
      ]
     },
     "execution_count": 77,
     "metadata": {},
     "output_type": "execute_result"
    }
   ],
   "source": [
    "pd.crosstab(index=consumer_survey['gender'],columns='count', colnames=\" \")"
   ]
  },
  {
   "cell_type": "markdown",
   "id": "8f757e71",
   "metadata": {},
   "source": [
    "As we can observe the crosstab function here takes gender data as index and returns the frequency count of each gender from consumer survey data"
   ]
  },
  {
   "cell_type": "code",
   "execution_count": 78,
   "id": "b2701d7d",
   "metadata": {},
   "outputs": [
    {
     "data": {
      "text/html": [
       "<div>\n",
       "<style scoped>\n",
       "    .dataframe tbody tr th:only-of-type {\n",
       "        vertical-align: middle;\n",
       "    }\n",
       "\n",
       "    .dataframe tbody tr th {\n",
       "        vertical-align: top;\n",
       "    }\n",
       "\n",
       "    .dataframe thead th {\n",
       "        text-align: right;\n",
       "    }\n",
       "</style>\n",
       "<table border=\"1\" class=\"dataframe\">\n",
       "  <thead>\n",
       "    <tr style=\"text-align: right;\">\n",
       "      <th></th>\n",
       "      <th>count</th>\n",
       "    </tr>\n",
       "    <tr>\n",
       "      <th>income</th>\n",
       "      <th></th>\n",
       "    </tr>\n",
       "  </thead>\n",
       "  <tbody>\n",
       "    <tr>\n",
       "      <th>low</th>\n",
       "      <td>36</td>\n",
       "    </tr>\n",
       "    <tr>\n",
       "      <th>medium</th>\n",
       "      <td>82</td>\n",
       "    </tr>\n",
       "    <tr>\n",
       "      <th>high</th>\n",
       "      <td>16</td>\n",
       "    </tr>\n",
       "  </tbody>\n",
       "</table>\n",
       "</div>"
      ],
      "text/plain": [
       "        count\n",
       "income       \n",
       "low        36\n",
       "medium     82\n",
       "high       16"
      ]
     },
     "execution_count": 78,
     "metadata": {},
     "output_type": "execute_result"
    }
   ],
   "source": [
    "pd.crosstab(index=consumer_survey['income'], columns='count', colnames=\" \")"
   ]
  },
  {
   "cell_type": "code",
   "execution_count": 79,
   "id": "49bc483a",
   "metadata": {},
   "outputs": [
    {
     "data": {
      "text/html": [
       "<div>\n",
       "<style scoped>\n",
       "    .dataframe tbody tr th:only-of-type {\n",
       "        vertical-align: middle;\n",
       "    }\n",
       "\n",
       "    .dataframe tbody tr th {\n",
       "        vertical-align: top;\n",
       "    }\n",
       "\n",
       "    .dataframe thead th {\n",
       "        text-align: right;\n",
       "    }\n",
       "</style>\n",
       "<table border=\"1\" class=\"dataframe\">\n",
       "  <thead>\n",
       "    <tr style=\"text-align: right;\">\n",
       "      <th></th>\n",
       "      <th>count</th>\n",
       "    </tr>\n",
       "    <tr>\n",
       "      <th>FRVPM</th>\n",
       "      <th></th>\n",
       "    </tr>\n",
       "  </thead>\n",
       "  <tbody>\n",
       "    <tr>\n",
       "      <th>False</th>\n",
       "      <td>90</td>\n",
       "    </tr>\n",
       "    <tr>\n",
       "      <th>True</th>\n",
       "      <td>44</td>\n",
       "    </tr>\n",
       "  </tbody>\n",
       "</table>\n",
       "</div>"
      ],
      "text/plain": [
       "       count\n",
       "FRVPM       \n",
       "False     90\n",
       "True      44"
      ]
     },
     "execution_count": 79,
     "metadata": {},
     "output_type": "execute_result"
    }
   ],
   "source": [
    "pd.crosstab(index=consumer_survey.FRVPM>10, columns='count', colnames=\" \")"
   ]
  },
  {
   "cell_type": "code",
   "execution_count": 80,
   "id": "81af1292",
   "metadata": {},
   "outputs": [
    {
     "data": {
      "text/html": [
       "<div>\n",
       "<style scoped>\n",
       "    .dataframe tbody tr th:only-of-type {\n",
       "        vertical-align: middle;\n",
       "    }\n",
       "\n",
       "    .dataframe tbody tr th {\n",
       "        vertical-align: top;\n",
       "    }\n",
       "\n",
       "    .dataframe thead th {\n",
       "        text-align: right;\n",
       "    }\n",
       "</style>\n",
       "<table border=\"1\" class=\"dataframe\">\n",
       "  <thead>\n",
       "    <tr style=\"text-align: right;\">\n",
       "      <th></th>\n",
       "      <th>count</th>\n",
       "    </tr>\n",
       "    <tr>\n",
       "      <th>Region</th>\n",
       "      <th></th>\n",
       "    </tr>\n",
       "  </thead>\n",
       "  <tbody>\n",
       "    <tr>\n",
       "      <th>East</th>\n",
       "      <td>55</td>\n",
       "    </tr>\n",
       "    <tr>\n",
       "      <th>West</th>\n",
       "      <td>48</td>\n",
       "    </tr>\n",
       "  </tbody>\n",
       "</table>\n",
       "</div>"
      ],
      "text/plain": [
       "        count\n",
       "Region       \n",
       "East       55\n",
       "West       48"
      ]
     },
     "execution_count": 80,
     "metadata": {},
     "output_type": "execute_result"
    }
   ],
   "source": [
    "pd.crosstab(index=restaurant_details['Region'], columns='count', colnames=\" \")"
   ]
  },
  {
   "cell_type": "markdown",
   "id": "70a79380",
   "metadata": {},
   "source": [
    "## Developing Insights from data\n",
    "### Exploring relationship between qualitative and quantitative attributes\n",
    "\n",
    "#### Plot and compare multiple box plots"
   ]
  },
  {
   "cell_type": "code",
   "execution_count": 81,
   "id": "82ca7d37",
   "metadata": {},
   "outputs": [],
   "source": [
    "restaurant_details['Average_dine_in_per_month']=mean_updated['Average_dine_in_per_month']"
   ]
  },
  {
   "cell_type": "code",
   "execution_count": 82,
   "id": "b425e688",
   "metadata": {},
   "outputs": [
    {
     "data": {
      "image/png": "[encoded data removed]",
      "text/plain": [
       "<Figure size 432x288 with 1 Axes>"
      ]
     },
     "metadata": {
      "needs_background": "light"
     },
     "output_type": "display_data"
    }
   ],
   "source": [
    "sns.boxplot(y='Average_dine_in_per_month', x='Region', data=restaurant_details)\n",
    "plt.title(\"East vs west Average_dine_in_per_month\")\n",
    "plt.show() #no outlier on east or west, ADPM is more in west"
   ]
  },
  {
   "cell_type": "code",
   "execution_count": 83,
   "id": "4e0415ca",
   "metadata": {},
   "outputs": [],
   "source": [
    "### Plot and compare multiple histograms\n",
    "subset_East=restaurant_details.loc[(restaurant_details.Region=='East'),['Region','Average_dine_in_per_month']]\n",
    "subset_West=restaurant_details.loc[(restaurant_details.Region=='West'),['Region','Average_dine_in_per_month']]"
   ]
  },
  {
   "cell_type": "code",
   "execution_count": 84,
   "id": "29dc1baa",
   "metadata": {},
   "outputs": [
    {
     "data": {
      "image/png": "[encoded data removed]",
      "text/plain": [
       "<Figure size 432x288 with 1 Axes>"
      ]
     },
     "metadata": {
      "needs_background": "light"
     },
     "output_type": "display_data"
    }
   ],
   "source": [
    "sns.histplot(subset_East['Average_dine_in_per_month'], color='green', kde=False, label='East')\n",
    "sns.histplot(subset_West['Average_dine_in_per_month'], color='magenta', kde=False, label='West')\n",
    "plt.legend()\n",
    "plt.xlabel('Average DineIn per month')\n",
    "plt.ylabel('Frequency')\n",
    "plt.title('East vs West frequency of Average DineIn per month')\n",
    "plt.show()"
   ]
  },
  {
   "cell_type": "markdown",
   "id": "f4a0ee69",
   "metadata": {},
   "source": [
    "The above graph shows variation of frequency between east and west regions. From above graph we can observe west region have better dining service sales than east region."
   ]
  },
  {
   "cell_type": "code",
   "execution_count": 85,
   "id": "42426ab2",
   "metadata": {},
   "outputs": [],
   "source": [
    "#Finding how pricing varies based on region they belong to"
   ]
  },
  {
   "cell_type": "markdown",
   "id": "634d2489",
   "metadata": {},
   "source": [
    "### Exploring relationship among qualitative attributes"
   ]
  },
  {
   "cell_type": "markdown",
   "id": "ae33a548",
   "metadata": {},
   "source": [
    "#### Pivot Table"
   ]
  },
  {
   "cell_type": "code",
   "execution_count": 86,
   "id": "66c90625",
   "metadata": {},
   "outputs": [
    {
     "data": {
      "text/html": [
       "<div>\n",
       "<style scoped>\n",
       "    .dataframe tbody tr th:only-of-type {\n",
       "        vertical-align: middle;\n",
       "    }\n",
       "\n",
       "    .dataframe tbody tr th {\n",
       "        vertical-align: top;\n",
       "    }\n",
       "\n",
       "    .dataframe thead th {\n",
       "        text-align: right;\n",
       "    }\n",
       "</style>\n",
       "<table border=\"1\" class=\"dataframe\">\n",
       "  <thead>\n",
       "    <tr style=\"text-align: right;\">\n",
       "      <th>price</th>\n",
       "      <th>high</th>\n",
       "      <th>low</th>\n",
       "      <th>medium</th>\n",
       "    </tr>\n",
       "    <tr>\n",
       "      <th>Region</th>\n",
       "      <th></th>\n",
       "      <th></th>\n",
       "      <th></th>\n",
       "    </tr>\n",
       "  </thead>\n",
       "  <tbody>\n",
       "    <tr>\n",
       "      <th>East</th>\n",
       "      <td>16</td>\n",
       "      <td>15</td>\n",
       "      <td>24</td>\n",
       "    </tr>\n",
       "    <tr>\n",
       "      <th>West</th>\n",
       "      <td>7</td>\n",
       "      <td>13</td>\n",
       "      <td>28</td>\n",
       "    </tr>\n",
       "  </tbody>\n",
       "</table>\n",
       "</div>"
      ],
      "text/plain": [
       "price   high  low  medium\n",
       "Region                   \n",
       "East      16   15      24\n",
       "West       7   13      28"
      ]
     },
     "metadata": {},
     "output_type": "display_data"
    }
   ],
   "source": [
    "#use pivot table to explore relation between price and region of restaurant\n",
    "# pivot table fn index= region values=placeId attribute\n",
    "rd_pivot=restaurant_details.pivot_table(index='Region', values='placeID', columns='price', aggfunc='count')\n",
    "display(rd_pivot)\n"
   ]
  },
  {
   "cell_type": "markdown",
   "id": "1a71d428",
   "metadata": {},
   "source": [
    "As we can see there are more high priced resturant in east region than west. \n",
    "There are slightly more low price restuarnt in the east region. \n",
    "Medium priced restaurants are more in west region"
   ]
  },
  {
   "cell_type": "code",
   "execution_count": 87,
   "id": "39defbf2",
   "metadata": {},
   "outputs": [
    {
     "data": {
      "text/html": [
       "<div>\n",
       "<style scoped>\n",
       "    .dataframe tbody tr th:only-of-type {\n",
       "        vertical-align: middle;\n",
       "    }\n",
       "\n",
       "    .dataframe tbody tr th {\n",
       "        vertical-align: top;\n",
       "    }\n",
       "\n",
       "    .dataframe thead th {\n",
       "        text-align: right;\n",
       "    }\n",
       "</style>\n",
       "<table border=\"1\" class=\"dataframe\">\n",
       "  <thead>\n",
       "    <tr style=\"text-align: right;\">\n",
       "      <th></th>\n",
       "      <th>gender</th>\n",
       "      <th>smoker</th>\n",
       "      <th>drink_level</th>\n",
       "      <th>dress_preference</th>\n",
       "      <th>ambience</th>\n",
       "      <th>transport</th>\n",
       "      <th>marital_status</th>\n",
       "      <th>interest</th>\n",
       "      <th>personality</th>\n",
       "      <th>religion</th>\n",
       "      <th>activity</th>\n",
       "      <th>income</th>\n",
       "      <th>FRVPM</th>\n",
       "      <th>AERPM</th>\n",
       "    </tr>\n",
       "  </thead>\n",
       "  <tbody>\n",
       "    <tr>\n",
       "      <th>0</th>\n",
       "      <td>male</td>\n",
       "      <td>False</td>\n",
       "      <td>abstemious</td>\n",
       "      <td>informal</td>\n",
       "      <td>family</td>\n",
       "      <td>on foot</td>\n",
       "      <td>single</td>\n",
       "      <td>variety</td>\n",
       "      <td>thrifty-protector</td>\n",
       "      <td>none</td>\n",
       "      <td>student</td>\n",
       "      <td>medium</td>\n",
       "      <td>12</td>\n",
       "      <td>2976</td>\n",
       "    </tr>\n",
       "    <tr>\n",
       "      <th>1</th>\n",
       "      <td>female</td>\n",
       "      <td>False</td>\n",
       "      <td>abstemious</td>\n",
       "      <td>informal</td>\n",
       "      <td>family</td>\n",
       "      <td>public</td>\n",
       "      <td>single</td>\n",
       "      <td>technology</td>\n",
       "      <td>hunter-ostentatious</td>\n",
       "      <td>Catholic</td>\n",
       "      <td>student</td>\n",
       "      <td>low</td>\n",
       "      <td>12</td>\n",
       "      <td>3648</td>\n",
       "    </tr>\n",
       "    <tr>\n",
       "      <th>2</th>\n",
       "      <td>female</td>\n",
       "      <td>False</td>\n",
       "      <td>social drinker</td>\n",
       "      <td>formal</td>\n",
       "      <td>family</td>\n",
       "      <td>public</td>\n",
       "      <td>single</td>\n",
       "      <td>none</td>\n",
       "      <td>hard-worker</td>\n",
       "      <td>Catholic</td>\n",
       "      <td>student</td>\n",
       "      <td>low</td>\n",
       "      <td>3</td>\n",
       "      <td>1461</td>\n",
       "    </tr>\n",
       "    <tr>\n",
       "      <th>3</th>\n",
       "      <td>male</td>\n",
       "      <td>False</td>\n",
       "      <td>abstemious</td>\n",
       "      <td>informal</td>\n",
       "      <td>family</td>\n",
       "      <td>public</td>\n",
       "      <td>single</td>\n",
       "      <td>variety</td>\n",
       "      <td>hard-worker</td>\n",
       "      <td>none</td>\n",
       "      <td>professional</td>\n",
       "      <td>medium</td>\n",
       "      <td>18</td>\n",
       "      <td>4014</td>\n",
       "    </tr>\n",
       "    <tr>\n",
       "      <th>4</th>\n",
       "      <td>female</td>\n",
       "      <td>False</td>\n",
       "      <td>abstemious</td>\n",
       "      <td>no preference</td>\n",
       "      <td>family</td>\n",
       "      <td>public</td>\n",
       "      <td>single</td>\n",
       "      <td>none</td>\n",
       "      <td>thrifty-protector</td>\n",
       "      <td>Catholic</td>\n",
       "      <td>student</td>\n",
       "      <td>medium</td>\n",
       "      <td>15</td>\n",
       "      <td>3045</td>\n",
       "    </tr>\n",
       "  </tbody>\n",
       "</table>\n",
       "</div>"
      ],
      "text/plain": [
       "   gender smoker     drink_level dress_preference ambience transport  \\\n",
       "0    male  False      abstemious         informal   family   on foot   \n",
       "1  female  False      abstemious         informal   family    public   \n",
       "2  female  False  social drinker           formal   family    public   \n",
       "3    male  False      abstemious         informal   family    public   \n",
       "4  female  False      abstemious    no preference   family    public   \n",
       "\n",
       "  marital_status    interest          personality  religion      activity  \\\n",
       "0         single     variety    thrifty-protector      none       student   \n",
       "1         single  technology  hunter-ostentatious  Catholic       student   \n",
       "2         single        none          hard-worker  Catholic       student   \n",
       "3         single     variety          hard-worker      none  professional   \n",
       "4         single        none    thrifty-protector  Catholic       student   \n",
       "\n",
       "   income  FRVPM  AERPM  \n",
       "0  medium     12   2976  \n",
       "1     low     12   3648  \n",
       "2     low      3   1461  \n",
       "3  medium     18   4014  \n",
       "4  medium     15   3045  "
      ]
     },
     "metadata": {},
     "output_type": "display_data"
    },
    {
     "data": {
      "text/html": [
       "<div>\n",
       "<style scoped>\n",
       "    .dataframe tbody tr th:only-of-type {\n",
       "        vertical-align: middle;\n",
       "    }\n",
       "\n",
       "    .dataframe tbody tr th {\n",
       "        vertical-align: top;\n",
       "    }\n",
       "\n",
       "    .dataframe thead th {\n",
       "        text-align: right;\n",
       "    }\n",
       "</style>\n",
       "<table border=\"1\" class=\"dataframe\">\n",
       "  <thead>\n",
       "    <tr style=\"text-align: right;\">\n",
       "      <th></th>\n",
       "      <th>index</th>\n",
       "      <th>gender</th>\n",
       "      <th>smoker</th>\n",
       "      <th>drink_level</th>\n",
       "      <th>dress_preference</th>\n",
       "      <th>ambience</th>\n",
       "      <th>transport</th>\n",
       "      <th>marital_status</th>\n",
       "      <th>interest</th>\n",
       "      <th>personality</th>\n",
       "      <th>religion</th>\n",
       "      <th>activity</th>\n",
       "      <th>income</th>\n",
       "      <th>FRVPM</th>\n",
       "      <th>AERPM</th>\n",
       "    </tr>\n",
       "  </thead>\n",
       "  <tbody>\n",
       "    <tr>\n",
       "      <th>0</th>\n",
       "      <td>0</td>\n",
       "      <td>male</td>\n",
       "      <td>False</td>\n",
       "      <td>abstemious</td>\n",
       "      <td>informal</td>\n",
       "      <td>family</td>\n",
       "      <td>on foot</td>\n",
       "      <td>single</td>\n",
       "      <td>variety</td>\n",
       "      <td>thrifty-protector</td>\n",
       "      <td>none</td>\n",
       "      <td>student</td>\n",
       "      <td>medium</td>\n",
       "      <td>12</td>\n",
       "      <td>2976</td>\n",
       "    </tr>\n",
       "    <tr>\n",
       "      <th>1</th>\n",
       "      <td>1</td>\n",
       "      <td>female</td>\n",
       "      <td>False</td>\n",
       "      <td>abstemious</td>\n",
       "      <td>informal</td>\n",
       "      <td>family</td>\n",
       "      <td>public</td>\n",
       "      <td>single</td>\n",
       "      <td>technology</td>\n",
       "      <td>hunter-ostentatious</td>\n",
       "      <td>Catholic</td>\n",
       "      <td>student</td>\n",
       "      <td>low</td>\n",
       "      <td>12</td>\n",
       "      <td>3648</td>\n",
       "    </tr>\n",
       "    <tr>\n",
       "      <th>2</th>\n",
       "      <td>2</td>\n",
       "      <td>female</td>\n",
       "      <td>False</td>\n",
       "      <td>social drinker</td>\n",
       "      <td>formal</td>\n",
       "      <td>family</td>\n",
       "      <td>public</td>\n",
       "      <td>single</td>\n",
       "      <td>none</td>\n",
       "      <td>hard-worker</td>\n",
       "      <td>Catholic</td>\n",
       "      <td>student</td>\n",
       "      <td>low</td>\n",
       "      <td>3</td>\n",
       "      <td>1461</td>\n",
       "    </tr>\n",
       "    <tr>\n",
       "      <th>3</th>\n",
       "      <td>3</td>\n",
       "      <td>male</td>\n",
       "      <td>False</td>\n",
       "      <td>abstemious</td>\n",
       "      <td>informal</td>\n",
       "      <td>family</td>\n",
       "      <td>public</td>\n",
       "      <td>single</td>\n",
       "      <td>variety</td>\n",
       "      <td>hard-worker</td>\n",
       "      <td>none</td>\n",
       "      <td>professional</td>\n",
       "      <td>medium</td>\n",
       "      <td>18</td>\n",
       "      <td>4014</td>\n",
       "    </tr>\n",
       "    <tr>\n",
       "      <th>4</th>\n",
       "      <td>4</td>\n",
       "      <td>female</td>\n",
       "      <td>False</td>\n",
       "      <td>abstemious</td>\n",
       "      <td>no preference</td>\n",
       "      <td>family</td>\n",
       "      <td>public</td>\n",
       "      <td>single</td>\n",
       "      <td>none</td>\n",
       "      <td>thrifty-protector</td>\n",
       "      <td>Catholic</td>\n",
       "      <td>student</td>\n",
       "      <td>medium</td>\n",
       "      <td>15</td>\n",
       "      <td>3045</td>\n",
       "    </tr>\n",
       "  </tbody>\n",
       "</table>\n",
       "</div>"
      ],
      "text/plain": [
       "   index  gender smoker     drink_level dress_preference ambience transport  \\\n",
       "0      0    male  False      abstemious         informal   family   on foot   \n",
       "1      1  female  False      abstemious         informal   family    public   \n",
       "2      2  female  False  social drinker           formal   family    public   \n",
       "3      3    male  False      abstemious         informal   family    public   \n",
       "4      4  female  False      abstemious    no preference   family    public   \n",
       "\n",
       "  marital_status    interest          personality  religion      activity  \\\n",
       "0         single     variety    thrifty-protector      none       student   \n",
       "1         single  technology  hunter-ostentatious  Catholic       student   \n",
       "2         single        none          hard-worker  Catholic       student   \n",
       "3         single     variety          hard-worker      none  professional   \n",
       "4         single        none    thrifty-protector  Catholic       student   \n",
       "\n",
       "   income  FRVPM  AERPM  \n",
       "0  medium     12   2976  \n",
       "1     low     12   3648  \n",
       "2     low      3   1461  \n",
       "3  medium     18   4014  \n",
       "4  medium     15   3045  "
      ]
     },
     "metadata": {},
     "output_type": "display_data"
    }
   ],
   "source": [
    "#finding how many consumers from various income group visit restaurant more than five times a month\n",
    "display(consumer_survey.head())\n",
    "consumer_survey.reset_index(inplace=True)\n",
    "display(consumer_survey.head())  #index column added in table"
   ]
  },
  {
   "cell_type": "code",
   "execution_count": 88,
   "id": "906575df",
   "metadata": {},
   "outputs": [
    {
     "data": {
      "text/html": [
       "<div>\n",
       "<style scoped>\n",
       "    .dataframe tbody tr th:only-of-type {\n",
       "        vertical-align: middle;\n",
       "    }\n",
       "\n",
       "    .dataframe tbody tr th {\n",
       "        vertical-align: top;\n",
       "    }\n",
       "\n",
       "    .dataframe thead th {\n",
       "        text-align: right;\n",
       "    }\n",
       "</style>\n",
       "<table border=\"1\" class=\"dataframe\">\n",
       "  <thead>\n",
       "    <tr style=\"text-align: right;\">\n",
       "      <th>FRVPM</th>\n",
       "      <th>False</th>\n",
       "      <th>True</th>\n",
       "    </tr>\n",
       "    <tr>\n",
       "      <th>income</th>\n",
       "      <th></th>\n",
       "      <th></th>\n",
       "    </tr>\n",
       "  </thead>\n",
       "  <tbody>\n",
       "    <tr>\n",
       "      <th>low</th>\n",
       "      <td>20</td>\n",
       "      <td>16</td>\n",
       "    </tr>\n",
       "    <tr>\n",
       "      <th>medium</th>\n",
       "      <td>18</td>\n",
       "      <td>64</td>\n",
       "    </tr>\n",
       "    <tr>\n",
       "      <th>high</th>\n",
       "      <td>0</td>\n",
       "      <td>16</td>\n",
       "    </tr>\n",
       "  </tbody>\n",
       "</table>\n",
       "</div>"
      ],
      "text/plain": [
       "FRVPM   False  True\n",
       "income             \n",
       "low        20    16\n",
       "medium     18    64\n",
       "high        0    16"
      ]
     },
     "execution_count": 88,
     "metadata": {},
     "output_type": "execute_result"
    }
   ],
   "source": [
    "#using index column with pivot table to get required insights\n",
    "consumer_survey.pivot_table(values='index', index=['income'],columns=consumer_survey.FRVPM>5, aggfunc='count')"
   ]
  },
  {
   "cell_type": "markdown",
   "id": "1c2bce69",
   "metadata": {},
   "source": [
    "From above it can be observed that all consumer belonging to high , \n",
    "medium income group visit resturant more than 5 times per month. \n",
    "Also we can see that in low income group there are more number of people who\n",
    "do visit restaurant less than 5 times a month."
   ]
  },
  {
   "cell_type": "code",
   "execution_count": 89,
   "id": "873a2d68",
   "metadata": {},
   "outputs": [
    {
     "data": {
      "text/html": [
       "<div>\n",
       "<style scoped>\n",
       "    .dataframe tbody tr th:only-of-type {\n",
       "        vertical-align: middle;\n",
       "    }\n",
       "\n",
       "    .dataframe tbody tr th {\n",
       "        vertical-align: top;\n",
       "    }\n",
       "\n",
       "    .dataframe thead th {\n",
       "        text-align: right;\n",
       "    }\n",
       "</style>\n",
       "<table border=\"1\" class=\"dataframe\">\n",
       "  <thead>\n",
       "    <tr style=\"text-align: right;\">\n",
       "      <th></th>\n",
       "      <th>FRVPM</th>\n",
       "      <th>False</th>\n",
       "      <th>True</th>\n",
       "    </tr>\n",
       "    <tr>\n",
       "      <th>gender</th>\n",
       "      <th>income</th>\n",
       "      <th></th>\n",
       "      <th></th>\n",
       "    </tr>\n",
       "  </thead>\n",
       "  <tbody>\n",
       "    <tr>\n",
       "      <th rowspan=\"3\" valign=\"top\">female</th>\n",
       "      <th>low</th>\n",
       "      <td>8</td>\n",
       "      <td>7</td>\n",
       "    </tr>\n",
       "    <tr>\n",
       "      <th>medium</th>\n",
       "      <td>8</td>\n",
       "      <td>34</td>\n",
       "    </tr>\n",
       "    <tr>\n",
       "      <th>high</th>\n",
       "      <td>0</td>\n",
       "      <td>4</td>\n",
       "    </tr>\n",
       "    <tr>\n",
       "      <th rowspan=\"3\" valign=\"top\">male</th>\n",
       "      <th>low</th>\n",
       "      <td>12</td>\n",
       "      <td>9</td>\n",
       "    </tr>\n",
       "    <tr>\n",
       "      <th>medium</th>\n",
       "      <td>10</td>\n",
       "      <td>30</td>\n",
       "    </tr>\n",
       "    <tr>\n",
       "      <th>high</th>\n",
       "      <td>0</td>\n",
       "      <td>12</td>\n",
       "    </tr>\n",
       "  </tbody>\n",
       "</table>\n",
       "</div>"
      ],
      "text/plain": [
       "FRVPM          False  True\n",
       "gender income             \n",
       "female low         8     7\n",
       "       medium      8    34\n",
       "       high        0     4\n",
       "male   low        12     9\n",
       "       medium     10    30\n",
       "       high        0    12"
      ]
     },
     "execution_count": 89,
     "metadata": {},
     "output_type": "execute_result"
    }
   ],
   "source": [
    "#How many of 64 of consumer from medium income group who visit restaurant FRVPM>5 are male.\n",
    "consumer_survey.pivot_table(values='index', index=['gender','income'],columns=consumer_survey.FRVPM>5, aggfunc='count')"
   ]
  },
  {
   "cell_type": "markdown",
   "id": "973a5a5f",
   "metadata": {},
   "source": [
    "As we can see around 30 male from medium income group visit restuarant more than 5 times a month"
   ]
  },
  {
   "cell_type": "markdown",
   "id": "0a23c676",
   "metadata": {},
   "source": [
    "### Exploring relationships among quanititative attributes"
   ]
  },
  {
   "cell_type": "markdown",
   "id": "acf24bdf",
   "metadata": {},
   "source": [
    "#### Scatter Plot"
   ]
  },
  {
   "cell_type": "code",
   "execution_count": 90,
   "id": "42ec3739",
   "metadata": {},
   "outputs": [
    {
     "data": {
      "text/html": [
       "<div>\n",
       "<style scoped>\n",
       "    .dataframe tbody tr th:only-of-type {\n",
       "        vertical-align: middle;\n",
       "    }\n",
       "\n",
       "    .dataframe tbody tr th {\n",
       "        vertical-align: top;\n",
       "    }\n",
       "\n",
       "    .dataframe thead th {\n",
       "        text-align: right;\n",
       "    }\n",
       "</style>\n",
       "<table border=\"1\" class=\"dataframe\">\n",
       "  <thead>\n",
       "    <tr style=\"text-align: right;\">\n",
       "      <th></th>\n",
       "      <th>Year</th>\n",
       "      <th>Dine_In</th>\n",
       "      <th>Home_Delivery</th>\n",
       "    </tr>\n",
       "  </thead>\n",
       "  <tbody>\n",
       "    <tr>\n",
       "      <th>0</th>\n",
       "      <td>1990</td>\n",
       "      <td>5649</td>\n",
       "      <td>0</td>\n",
       "    </tr>\n",
       "    <tr>\n",
       "      <th>1</th>\n",
       "      <td>1991</td>\n",
       "      <td>5539</td>\n",
       "      <td>0</td>\n",
       "    </tr>\n",
       "    <tr>\n",
       "      <th>2</th>\n",
       "      <td>1992</td>\n",
       "      <td>5760</td>\n",
       "      <td>104</td>\n",
       "    </tr>\n",
       "    <tr>\n",
       "      <th>3</th>\n",
       "      <td>1993</td>\n",
       "      <td>6509</td>\n",
       "      <td>76</td>\n",
       "    </tr>\n",
       "    <tr>\n",
       "      <th>4</th>\n",
       "      <td>1994</td>\n",
       "      <td>6982</td>\n",
       "      <td>156</td>\n",
       "    </tr>\n",
       "  </tbody>\n",
       "</table>\n",
       "</div>"
      ],
      "text/plain": [
       "   Year  Dine_In  Home_Delivery\n",
       "0  1990     5649              0\n",
       "1  1991     5539              0\n",
       "2  1992     5760            104\n",
       "3  1993     6509             76\n",
       "4  1994     6982            156"
      ]
     },
     "execution_count": 90,
     "metadata": {},
     "output_type": "execute_result"
    }
   ],
   "source": [
    "#finding if people prefer to order or dine at restuarnt\n",
    "dining_preferences.head()"
   ]
  },
  {
   "cell_type": "code",
   "execution_count": 91,
   "id": "a0b36e56",
   "metadata": {},
   "outputs": [
    {
     "data": {
      "image/png": "[encoded data removed]",
      "text/plain": [
       "<Figure size 432x288 with 1 Axes>"
      ]
     },
     "metadata": {
      "needs_background": "light"
     },
     "output_type": "display_data"
    }
   ],
   "source": [
    "#plotting scatter plot between dine in and home_delivery attributes\n",
    "sns.scatterplot(x='Year',y='Dine_In', data=dining_preferences, color='red', label='Dine_In')\n",
    "sns.scatterplot(x='Year',y='Home_Delivery', data=dining_preferences, color='blue', label='Home_Delivery')\n",
    "plt.legend()\n",
    "plt.xlabel('Year')\n",
    "plt.ylabel('No of consumers')\n",
    "plt.title('Dine In vs Home Delivery from 1990 to 2016')\n",
    "plt.show()"
   ]
  },
  {
   "cell_type": "markdown",
   "id": "cd0f1de8",
   "metadata": {},
   "source": [
    "We can see from year 2005-2016 while dine in orders remained same , Home_delivery orders increased significantly"
   ]
  },
  {
   "cell_type": "code",
   "execution_count": 123,
   "id": "77ded004",
   "metadata": {},
   "outputs": [
    {
     "data": {
      "image/png": "[encoded data removed]",
      "text/plain": [
       "<Figure size 432x288 with 1 Axes>"
      ]
     },
     "metadata": {},
     "output_type": "display_data"
    },
    {
     "data": {
      "image/png": "[encoded data removed]",
      "text/plain": [
       "<Figure size 432x288 with 1 Axes>"
      ]
     },
     "metadata": {},
     "output_type": "display_data"
    },
    {
     "data": {
      "image/png": "[encoded data removed]",
      "text/plain": [
       "<Figure size 432x288 with 1 Axes>"
      ]
     },
     "metadata": {},
     "output_type": "display_data"
    },
    {
     "data": {
      "image/png": "[encoded data removed]",
      "text/plain": [
       "<Figure size 432x288 with 1 Axes>"
      ]
     },
     "metadata": {},
     "output_type": "display_data"
    },
    {
     "data": {
      "image/png": "[encoded data removed]",
      "text/plain": [
       "<Figure size 432x288 with 1 Axes>"
      ]
     },
     "metadata": {},
     "output_type": "display_data"
    }
   ],
   "source": [
    "Year=[]\n",
    "\n",
    "Year= list(dining_preferences.Year.tail())\n",
    "a=len(Year)\n",
    "Dine_Ins=list(dining_preferences.Dine_In.tail())\n",
    "Home_Deliverys=list(dining_preferences.Home_Delivery.tail())\n",
    "for i in range(a):\n",
    "    a=Dine_Ins[i]\n",
    "    b=Home_Deliverys[i]\n",
    "    palette_color=sns.color_palette('bright')\n",
    "    plt.figure(i)\n",
    "    plt.title(Year[i],fontsize=16)\n",
    "    plt.pie([a,b], labels=['Dine_In','Home_Delivery'], colors=palette_color, autopct='%.0f%%')\n",
    "plt.show()"
   ]
  },
  {
   "cell_type": "markdown",
   "id": "8d32331c",
   "metadata": {},
   "source": [
    "## Line Chart"
   ]
  },
  {
   "cell_type": "code",
   "execution_count": 96,
   "id": "0b16c9d4",
   "metadata": {},
   "outputs": [
    {
     "data": {
      "text/plain": [
       "<AxesSubplot:xlabel='Year'>"
      ]
     },
     "execution_count": 96,
     "metadata": {},
     "output_type": "execute_result"
    },
    {
     "data": {
      "image/png": "[encoded data removed]",
      "text/plain": [
       "<Figure size 720x504 with 1 Axes>"
      ]
     },
     "metadata": {
      "needs_background": "light"
     },
     "output_type": "display_data"
    }
   ],
   "source": [
    "fig, ax = plt.subplots()\n",
    "fig.set_figwidth(10)\n",
    "fig.set_figheight(7)\n",
    "dining_preferences.plot(ax = ax, x = \"Year\", y = \"Dine_In\", kind = \"line\", )\n",
    "dining_preferences.plot(ax = ax, x = \"Year\",y= \"Home_Delivery\", kind = \"line\", linestyle='--',color=\"red\")\n"
   ]
  },
  {
   "cell_type": "code",
   "execution_count": null,
   "id": "50f9ce2c",
   "metadata": {},
   "outputs": [],
   "source": []
  }
 ],
 "metadata": {
  "kernelspec": {
   "display_name": "Python 3 (ipykernel)",
   "language": "python",
   "name": "python3"
  },
  "language_info": {
   "codemirror_mode": {
    "name": "ipython",
    "version": 3
   },
   "file_extension": ".py",
   "mimetype": "text/x-python",
   "name": "python",
   "nbconvert_exporter": "python",
   "pygments_lexer": "ipython3",
   "version": "3.9.7"
  }
 },
 "nbformat": 4,
 "nbformat_minor": 5
}
